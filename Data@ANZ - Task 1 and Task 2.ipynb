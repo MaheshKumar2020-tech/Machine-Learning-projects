{
 "cells": [
  {
   "cell_type": "code",
   "execution_count": 155,
   "metadata": {},
   "outputs": [],
   "source": [
    "import numpy as np\n",
    "import pandas as pd\n",
    "import matplotlib.pyplot as plt\n",
    "import seaborn as sn\n",
    "from sklearn.preprocessing import StandardScaler, OneHotEncoder\n",
    "from sklearn.pipeline import Pipeline\n",
    "from sklearn.model_selection import train_test_split\n",
    "from sklearn.linear_model import LinearRegression, Ridge, Lasso\n",
    "from sklearn.tree import DecisionTreeRegressor\n",
    "from sklearn.compose import ColumnTransformer\n",
    "from sklearn.metrics import mean_squared_error"
   ]
  },
  {
   "cell_type": "code",
   "execution_count": 89,
   "metadata": {},
   "outputs": [],
   "source": [
    "trans_data = pd.read_excel('ANZ_transactions.xlsx')"
   ]
  },
  {
   "cell_type": "code",
   "execution_count": 90,
   "metadata": {},
   "outputs": [
    {
     "data": {
      "text/html": [
       "<div>\n",
       "<style scoped>\n",
       "    .dataframe tbody tr th:only-of-type {\n",
       "        vertical-align: middle;\n",
       "    }\n",
       "\n",
       "    .dataframe tbody tr th {\n",
       "        vertical-align: top;\n",
       "    }\n",
       "\n",
       "    .dataframe thead th {\n",
       "        text-align: right;\n",
       "    }\n",
       "</style>\n",
       "<table border=\"1\" class=\"dataframe\">\n",
       "  <thead>\n",
       "    <tr style=\"text-align: right;\">\n",
       "      <th></th>\n",
       "      <th>status</th>\n",
       "      <th>card_present_flag</th>\n",
       "      <th>bpay_biller_code</th>\n",
       "      <th>account</th>\n",
       "      <th>currency</th>\n",
       "      <th>long_lat</th>\n",
       "      <th>txn_description</th>\n",
       "      <th>merchant_id</th>\n",
       "      <th>merchant_code</th>\n",
       "      <th>first_name</th>\n",
       "      <th>...</th>\n",
       "      <th>merchant_suburb</th>\n",
       "      <th>merchant_state</th>\n",
       "      <th>extraction</th>\n",
       "      <th>amount</th>\n",
       "      <th>transaction_id</th>\n",
       "      <th>country</th>\n",
       "      <th>customer_id</th>\n",
       "      <th>merchant_long_lat</th>\n",
       "      <th>movement</th>\n",
       "      <th>trans_month</th>\n",
       "    </tr>\n",
       "  </thead>\n",
       "  <tbody>\n",
       "    <tr>\n",
       "      <td>0</td>\n",
       "      <td>authorized</td>\n",
       "      <td>1.0</td>\n",
       "      <td>NaN</td>\n",
       "      <td>ACC-1598451071</td>\n",
       "      <td>AUD</td>\n",
       "      <td>153.41 -27.95</td>\n",
       "      <td>POS</td>\n",
       "      <td>81c48296-73be-44a7-befa-d053f48ce7cd</td>\n",
       "      <td>NaN</td>\n",
       "      <td>Diana</td>\n",
       "      <td>...</td>\n",
       "      <td>Ashmore</td>\n",
       "      <td>QLD</td>\n",
       "      <td>2018-08-01T01:01:15.000+0000</td>\n",
       "      <td>16.25</td>\n",
       "      <td>a623070bfead4541a6b0fff8a09e706c</td>\n",
       "      <td>Australia</td>\n",
       "      <td>CUS-2487424745</td>\n",
       "      <td>153.38 -27.99</td>\n",
       "      <td>debit</td>\n",
       "      <td>August</td>\n",
       "    </tr>\n",
       "    <tr>\n",
       "      <td>1</td>\n",
       "      <td>authorized</td>\n",
       "      <td>0.0</td>\n",
       "      <td>NaN</td>\n",
       "      <td>ACC-1598451071</td>\n",
       "      <td>AUD</td>\n",
       "      <td>153.41 -27.95</td>\n",
       "      <td>SALES-POS</td>\n",
       "      <td>830a451c-316e-4a6a-bf25-e37caedca49e</td>\n",
       "      <td>NaN</td>\n",
       "      <td>Diana</td>\n",
       "      <td>...</td>\n",
       "      <td>Sydney</td>\n",
       "      <td>NSW</td>\n",
       "      <td>2018-08-01T01:13:45.000+0000</td>\n",
       "      <td>14.19</td>\n",
       "      <td>13270a2a902145da9db4c951e04b51b9</td>\n",
       "      <td>Australia</td>\n",
       "      <td>CUS-2487424745</td>\n",
       "      <td>151.21 -33.87</td>\n",
       "      <td>debit</td>\n",
       "      <td>August</td>\n",
       "    </tr>\n",
       "    <tr>\n",
       "      <td>2</td>\n",
       "      <td>authorized</td>\n",
       "      <td>1.0</td>\n",
       "      <td>NaN</td>\n",
       "      <td>ACC-1222300524</td>\n",
       "      <td>AUD</td>\n",
       "      <td>151.23 -33.94</td>\n",
       "      <td>POS</td>\n",
       "      <td>835c231d-8cdf-4e96-859d-e9d571760cf0</td>\n",
       "      <td>NaN</td>\n",
       "      <td>Michael</td>\n",
       "      <td>...</td>\n",
       "      <td>Sydney</td>\n",
       "      <td>NSW</td>\n",
       "      <td>2018-08-01T01:26:15.000+0000</td>\n",
       "      <td>6.42</td>\n",
       "      <td>feb79e7ecd7048a5a36ec889d1a94270</td>\n",
       "      <td>Australia</td>\n",
       "      <td>CUS-2142601169</td>\n",
       "      <td>151.21 -33.87</td>\n",
       "      <td>debit</td>\n",
       "      <td>August</td>\n",
       "    </tr>\n",
       "    <tr>\n",
       "      <td>3</td>\n",
       "      <td>authorized</td>\n",
       "      <td>1.0</td>\n",
       "      <td>NaN</td>\n",
       "      <td>ACC-1037050564</td>\n",
       "      <td>AUD</td>\n",
       "      <td>153.10 -27.66</td>\n",
       "      <td>SALES-POS</td>\n",
       "      <td>48514682-c78a-4a88-b0da-2d6302e64673</td>\n",
       "      <td>NaN</td>\n",
       "      <td>Rhonda</td>\n",
       "      <td>...</td>\n",
       "      <td>Buderim</td>\n",
       "      <td>QLD</td>\n",
       "      <td>2018-08-01T01:38:45.000+0000</td>\n",
       "      <td>40.90</td>\n",
       "      <td>2698170da3704fd981b15e64a006079e</td>\n",
       "      <td>Australia</td>\n",
       "      <td>CUS-1614226872</td>\n",
       "      <td>153.05 -26.68</td>\n",
       "      <td>debit</td>\n",
       "      <td>August</td>\n",
       "    </tr>\n",
       "    <tr>\n",
       "      <td>4</td>\n",
       "      <td>authorized</td>\n",
       "      <td>1.0</td>\n",
       "      <td>NaN</td>\n",
       "      <td>ACC-1598451071</td>\n",
       "      <td>AUD</td>\n",
       "      <td>153.41 -27.95</td>\n",
       "      <td>SALES-POS</td>\n",
       "      <td>b4e02c10-0852-4273-b8fd-7b3395e32eb0</td>\n",
       "      <td>NaN</td>\n",
       "      <td>Diana</td>\n",
       "      <td>...</td>\n",
       "      <td>Mermaid Beach</td>\n",
       "      <td>QLD</td>\n",
       "      <td>2018-08-01T01:51:15.000+0000</td>\n",
       "      <td>3.25</td>\n",
       "      <td>329adf79878c4cf0aeb4188b4691c266</td>\n",
       "      <td>Australia</td>\n",
       "      <td>CUS-2487424745</td>\n",
       "      <td>153.44 -28.06</td>\n",
       "      <td>debit</td>\n",
       "      <td>August</td>\n",
       "    </tr>\n",
       "  </tbody>\n",
       "</table>\n",
       "<p>5 rows × 24 columns</p>\n",
       "</div>"
      ],
      "text/plain": [
       "       status  card_present_flag bpay_biller_code         account currency  \\\n",
       "0  authorized                1.0              NaN  ACC-1598451071      AUD   \n",
       "1  authorized                0.0              NaN  ACC-1598451071      AUD   \n",
       "2  authorized                1.0              NaN  ACC-1222300524      AUD   \n",
       "3  authorized                1.0              NaN  ACC-1037050564      AUD   \n",
       "4  authorized                1.0              NaN  ACC-1598451071      AUD   \n",
       "\n",
       "        long_lat txn_description                           merchant_id  \\\n",
       "0  153.41 -27.95             POS  81c48296-73be-44a7-befa-d053f48ce7cd   \n",
       "1  153.41 -27.95       SALES-POS  830a451c-316e-4a6a-bf25-e37caedca49e   \n",
       "2  151.23 -33.94             POS  835c231d-8cdf-4e96-859d-e9d571760cf0   \n",
       "3  153.10 -27.66       SALES-POS  48514682-c78a-4a88-b0da-2d6302e64673   \n",
       "4  153.41 -27.95       SALES-POS  b4e02c10-0852-4273-b8fd-7b3395e32eb0   \n",
       "\n",
       "   merchant_code first_name  ...  merchant_suburb merchant_state  \\\n",
       "0            NaN      Diana  ...          Ashmore            QLD   \n",
       "1            NaN      Diana  ...           Sydney            NSW   \n",
       "2            NaN    Michael  ...           Sydney            NSW   \n",
       "3            NaN     Rhonda  ...          Buderim            QLD   \n",
       "4            NaN      Diana  ...    Mermaid Beach            QLD   \n",
       "\n",
       "                     extraction  amount                    transaction_id  \\\n",
       "0  2018-08-01T01:01:15.000+0000   16.25  a623070bfead4541a6b0fff8a09e706c   \n",
       "1  2018-08-01T01:13:45.000+0000   14.19  13270a2a902145da9db4c951e04b51b9   \n",
       "2  2018-08-01T01:26:15.000+0000    6.42  feb79e7ecd7048a5a36ec889d1a94270   \n",
       "3  2018-08-01T01:38:45.000+0000   40.90  2698170da3704fd981b15e64a006079e   \n",
       "4  2018-08-01T01:51:15.000+0000    3.25  329adf79878c4cf0aeb4188b4691c266   \n",
       "\n",
       "     country     customer_id  merchant_long_lat movement trans_month  \n",
       "0  Australia  CUS-2487424745      153.38 -27.99    debit      August  \n",
       "1  Australia  CUS-2487424745      151.21 -33.87    debit      August  \n",
       "2  Australia  CUS-2142601169      151.21 -33.87    debit      August  \n",
       "3  Australia  CUS-1614226872      153.05 -26.68    debit      August  \n",
       "4  Australia  CUS-2487424745      153.44 -28.06    debit      August  \n",
       "\n",
       "[5 rows x 24 columns]"
      ]
     },
     "execution_count": 90,
     "metadata": {},
     "output_type": "execute_result"
    }
   ],
   "source": [
    "trans_data.head()"
   ]
  },
  {
   "cell_type": "code",
   "execution_count": 91,
   "metadata": {},
   "outputs": [
    {
     "data": {
      "text/plain": [
       "SALES-POS     3934\n",
       "POS           3783\n",
       "PAYMENT       2600\n",
       "PAY/SALARY     883\n",
       "INTER BANK     742\n",
       "PHONE BANK     101\n",
       "Name: txn_description, dtype: int64"
      ]
     },
     "execution_count": 91,
     "metadata": {},
     "output_type": "execute_result"
    }
   ],
   "source": [
    "trans_data['txn_description'].value_counts()"
   ]
  },
  {
   "cell_type": "code",
   "execution_count": 6,
   "metadata": {},
   "outputs": [
    {
     "name": "stdout",
     "output_type": "stream",
     "text": [
      "<class 'pandas.core.frame.DataFrame'>\n",
      "RangeIndex: 12043 entries, 0 to 12042\n",
      "Data columns (total 24 columns):\n",
      "status               12043 non-null object\n",
      "card_present_flag    7717 non-null float64\n",
      "bpay_biller_code     885 non-null object\n",
      "account              12043 non-null object\n",
      "currency             12043 non-null object\n",
      "long_lat             12043 non-null object\n",
      "txn_description      12043 non-null object\n",
      "merchant_id          7717 non-null object\n",
      "merchant_code        883 non-null float64\n",
      "first_name           12043 non-null object\n",
      "balance              12043 non-null float64\n",
      "date                 12043 non-null datetime64[ns]\n",
      "gender               12043 non-null object\n",
      "age                  12043 non-null int64\n",
      "merchant_suburb      7717 non-null object\n",
      "merchant_state       7717 non-null object\n",
      "extraction           12043 non-null object\n",
      "amount               12043 non-null float64\n",
      "transaction_id       12043 non-null object\n",
      "country              12043 non-null object\n",
      "customer_id          12043 non-null object\n",
      "merchant_long_lat    7717 non-null object\n",
      "movement             12043 non-null object\n",
      "trans_month          12043 non-null object\n",
      "dtypes: datetime64[ns](1), float64(4), int64(1), object(18)\n",
      "memory usage: 2.2+ MB\n"
     ]
    }
   ],
   "source": [
    "trans_data.info()"
   ]
  },
  {
   "cell_type": "code",
   "execution_count": 7,
   "metadata": {},
   "outputs": [
    {
     "data": {
      "text/plain": [
       "authorized    7717\n",
       "posted        4326\n",
       "Name: status, dtype: int64"
      ]
     },
     "execution_count": 7,
     "metadata": {},
     "output_type": "execute_result"
    }
   ],
   "source": [
    "trans_data.status.value_counts()"
   ]
  },
  {
   "cell_type": "code",
   "execution_count": 8,
   "metadata": {},
   "outputs": [
    {
     "data": {
      "text/plain": [
       "1.0    6194\n",
       "0.0    1523\n",
       "Name: card_present_flag, dtype: int64"
      ]
     },
     "execution_count": 8,
     "metadata": {},
     "output_type": "execute_result"
    }
   ],
   "source": [
    "trans_data.card_present_flag.value_counts()"
   ]
  },
  {
   "cell_type": "code",
   "execution_count": 9,
   "metadata": {},
   "outputs": [
    {
     "data": {
      "text/plain": [
       "array([ 0.,  1., nan, ..., nan, nan, nan])"
      ]
     },
     "execution_count": 9,
     "metadata": {},
     "output_type": "execute_result"
    }
   ],
   "source": [
    "np.unique(trans_data['card_present_flag'])"
   ]
  },
  {
   "cell_type": "code",
   "execution_count": 10,
   "metadata": {},
   "outputs": [
    {
     "data": {
      "text/plain": [
       "0                                        883\n",
       " LAND WATER & PLANNING East Melbourne      1\n",
       " THE DISCOUNT CHEMIST GROUP                1\n",
       "Name: bpay_biller_code, dtype: int64"
      ]
     },
     "execution_count": 10,
     "metadata": {},
     "output_type": "execute_result"
    }
   ],
   "source": [
    "trans_data.bpay_biller_code.value_counts()"
   ]
  },
  {
   "cell_type": "code",
   "execution_count": 11,
   "metadata": {},
   "outputs": [
    {
     "data": {
      "text/plain": [
       "ACC-1598451071    578\n",
       "ACC-1222300524    303\n",
       "ACC-182446574     292\n",
       "ACC-4258502723    260\n",
       "ACC-1037050564    259\n",
       "                 ... \n",
       "ACC-1998563091     40\n",
       "ACC-3881031190     37\n",
       "ACC-721712940      34\n",
       "ACC-4059612845     31\n",
       "ACC-1217063613     25\n",
       "Name: account, Length: 100, dtype: int64"
      ]
     },
     "execution_count": 11,
     "metadata": {},
     "output_type": "execute_result"
    }
   ],
   "source": [
    "trans_data.account.value_counts()"
   ]
  },
  {
   "cell_type": "code",
   "execution_count": 12,
   "metadata": {},
   "outputs": [
    {
     "data": {
      "text/plain": [
       "array(['ACC-1037050564', 'ACC-1056639002', 'ACC-1199531521',\n",
       "       'ACC-1217063613', 'ACC-1222300524', 'ACC-1243371644',\n",
       "       'ACC-1279356312', 'ACC-1334819143', 'ACC-1344825761',\n",
       "       'ACC-1349834573', 'ACC-1424176027', 'ACC-1438600314',\n",
       "       'ACC-1443681913', 'ACC-1496451953', 'ACC-1516130869',\n",
       "       'ACC-1523339231', 'ACC-154431271', 'ACC-1598451071',\n",
       "       'ACC-1608363396', 'ACC-1650504218', 'ACC-1652235822',\n",
       "       'ACC-1683215619', 'ACC-1710017148', 'ACC-1788473090',\n",
       "       'ACC-1799207998', 'ACC-182446574', 'ACC-1890605467',\n",
       "       'ACC-1903037542', 'ACC-1973887809', 'ACC-1990648130',\n",
       "       'ACC-1998563091', 'ACC-2014856841', 'ACC-2107684084',\n",
       "       'ACC-211792489', 'ACC-2153562714', 'ACC-2171593283',\n",
       "       'ACC-2173390920', 'ACC-2231965366', 'ACC-2249586092',\n",
       "       'ACC-2259139624', 'ACC-2265520058', 'ACC-2270192619',\n",
       "       'ACC-2305712452', 'ACC-240804743', 'ACC-2528867619',\n",
       "       'ACC-2615038700', 'ACC-2650850707', 'ACC-2673069055',\n",
       "       'ACC-2674800293', 'ACC-2681137560', 'ACC-2776252858',\n",
       "       'ACC-2828321672', 'ACC-2890243754', 'ACC-2897221629',\n",
       "       'ACC-2901672282', 'ACC-2920611728', 'ACC-2970114956',\n",
       "       'ACC-2988263882', 'ACC-3021093232', 'ACC-3084464802',\n",
       "       'ACC-3100725361', 'ACC-3233697971', 'ACC-3317636250',\n",
       "       'ACC-3326339947', 'ACC-3481401842', 'ACC-3485804958',\n",
       "       'ACC-3536132544', 'ACC-354106658', 'ACC-3541460373',\n",
       "       'ACC-3689607373', 'ACC-3741880913', 'ACC-37709441',\n",
       "       'ACC-3771436525', 'ACC-3827517394', 'ACC-3879258709',\n",
       "       'ACC-3881031190', 'ACC-38923874', 'ACC-3941181087',\n",
       "       'ACC-3954677887', 'ACC-4059612845', 'ACC-4065652575',\n",
       "       'ACC-414431115', 'ACC-4163822186', 'ACC-4258502723',\n",
       "       'ACC-4274272854', 'ACC-4281711154', 'ACC-53508546',\n",
       "       'ACC-559365433', 'ACC-574997646', 'ACC-588564840', 'ACC-602667573',\n",
       "       'ACC-721712940', 'ACC-80388494', 'ACC-819621312', 'ACC-847145727',\n",
       "       'ACC-854938045', 'ACC-90814749', 'ACC-958000567', 'ACC-964839203',\n",
       "       'ACC-966140392'], dtype=object)"
      ]
     },
     "execution_count": 12,
     "metadata": {},
     "output_type": "execute_result"
    }
   ],
   "source": [
    "np.unique(trans_data['account'])"
   ]
  },
  {
   "cell_type": "code",
   "execution_count": 13,
   "metadata": {},
   "outputs": [
    {
     "data": {
      "text/plain": [
       "AUD    12043\n",
       "Name: currency, dtype: int64"
      ]
     },
     "execution_count": 13,
     "metadata": {},
     "output_type": "execute_result"
    }
   ],
   "source": [
    "trans_data.currency.value_counts()"
   ]
  },
  {
   "cell_type": "code",
   "execution_count": 14,
   "metadata": {},
   "outputs": [
    {
     "data": {
      "text/plain": [
       "array(['AUD'], dtype=object)"
      ]
     },
     "execution_count": 14,
     "metadata": {},
     "output_type": "execute_result"
    }
   ],
   "source": [
    "np.unique(trans_data['currency'])"
   ]
  },
  {
   "cell_type": "code",
   "execution_count": 15,
   "metadata": {},
   "outputs": [
    {
     "data": {
      "text/plain": [
       "153.41 -27.95    578\n",
       "151.23 -33.94    303\n",
       "116.06 -32.00    292\n",
       "145.45 -37.74    260\n",
       "153.10 -27.66    259\n",
       "                ... \n",
       "149.03 -35.25     40\n",
       "149.19 -21.15     37\n",
       "145.09 -37.82     34\n",
       "130.98 -12.49     31\n",
       "147.61 -37.82     25\n",
       "Name: long_lat, Length: 100, dtype: int64"
      ]
     },
     "execution_count": 15,
     "metadata": {},
     "output_type": "execute_result"
    }
   ],
   "source": [
    "trans_data.long_lat.value_counts()"
   ]
  },
  {
   "cell_type": "code",
   "execution_count": 16,
   "metadata": {},
   "outputs": [
    {
     "data": {
      "text/plain": [
       "array(['114.62 -28.80', '115.72 -32.28', '115.74 -31.72', '115.78 -31.90',\n",
       "       '115.79 -31.79', '115.79 -31.94', '115.81 -31.82', '115.83 -31.90',\n",
       "       '115.90 -31.92', '115.98 -32.07', '116.00 -31.88', '116.02 -31.87',\n",
       "       '116.06 -32.00', '121.48 -30.75', '130.84 -12.45', '130.90 -12.37',\n",
       "       '130.98 -12.49', '138.52 -35.01', '138.56 -35.27', '138.58 -34.96',\n",
       "       '138.61 -34.89', '138.63 -34.93', '138.67 -34.86', '138.69 -34.84',\n",
       "       '142.77 -37.06', '143.83 -37.66', '143.88 -37.66', '144.66 -37.91',\n",
       "       '144.71 -37.58', '144.79 -37.73', '144.89 -37.69', '144.89 -37.81',\n",
       "       '144.93 -37.79', '144.95 -37.76', '144.96 -37.69', '144.96 -37.76',\n",
       "       '144.96 -37.84', '144.97 -37.42', '144.98 -37.84', '144.99 -37.90',\n",
       "       '145.00 -37.83', '145.01 -37.93', '145.03 -37.88', '145.03 -37.91',\n",
       "       '145.04 -37.85', '145.04 -37.92', '145.06 -37.95', '145.09 -37.82',\n",
       "       '145.13 -37.70', '145.15 -37.76', '145.16 -37.84', '145.17 -37.84',\n",
       "       '145.18 -37.90', '145.23 -37.86', '145.35 -38.03', '145.45 -37.74',\n",
       "       '145.73 -17.03', '146.92 -36.07', '146.94 -36.04', '147.08 -37.97',\n",
       "       '147.31 -42.88', '147.61 -37.82', '147.63 -22.84', '148.16 -23.52',\n",
       "       '149.03 -34.97', '149.03 -35.25', '149.19 -21.15', '149.83 -29.47',\n",
       "       '150.50 -23.40', '150.62 -33.76', '150.68 -33.79', '150.79 -33.64',\n",
       "       '150.82 -34.01', '150.90 -33.78', '150.90 -34.37', '150.92 -33.77',\n",
       "       '151.04 -33.77', '151.04 -33.80', '151.08 -33.93', '151.09 -33.91',\n",
       "       '151.11 -33.99', '151.12 -33.89', '151.18 -33.80', '151.22 -33.87',\n",
       "       '151.23 -33.94', '151.23 -33.96', '151.27 -33.76', '151.27 -33.85',\n",
       "       '151.27 -33.90', '151.68 -32.98', '152.99 -27.49', '153.02 -27.66',\n",
       "       '153.03 -27.51', '153.05 -27.61', '153.09 -27.48', '153.10 -27.66',\n",
       "       '153.32 -27.93', '153.41 -27.95', '153.41 -28.01',\n",
       "       '255.00 -573.00'], dtype=object)"
      ]
     },
     "execution_count": 16,
     "metadata": {},
     "output_type": "execute_result"
    }
   ],
   "source": [
    "np.unique(trans_data['long_lat'])"
   ]
  },
  {
   "cell_type": "code",
   "execution_count": 17,
   "metadata": {},
   "outputs": [
    {
     "data": {
      "text/plain": [
       "SALES-POS     3934\n",
       "POS           3783\n",
       "PAYMENT       2600\n",
       "PAY/SALARY     883\n",
       "INTER BANK     742\n",
       "PHONE BANK     101\n",
       "Name: txn_description, dtype: int64"
      ]
     },
     "execution_count": 17,
     "metadata": {},
     "output_type": "execute_result"
    }
   ],
   "source": [
    "trans_data.txn_description.value_counts()"
   ]
  },
  {
   "cell_type": "code",
   "execution_count": 18,
   "metadata": {},
   "outputs": [
    {
     "data": {
      "text/plain": [
       "array(['INTER BANK', 'PAY/SALARY', 'PAYMENT', 'PHONE BANK', 'POS',\n",
       "       'SALES-POS'], dtype=object)"
      ]
     },
     "execution_count": 18,
     "metadata": {},
     "output_type": "execute_result"
    }
   ],
   "source": [
    "np.unique(trans_data['txn_description'])"
   ]
  },
  {
   "cell_type": "code",
   "execution_count": 19,
   "metadata": {},
   "outputs": [
    {
     "data": {
      "text/plain": [
       "106e1272-44ab-4dcb-a438-dd98e0071e51    14\n",
       "6c84c219-96ea-4c6f-9de5-0a28bcaec62f    12\n",
       "e28c426d-cbef-4e2d-aa06-1ba0b6b1902f    11\n",
       "aef30de1-c67e-4ab7-8577-2931a4bf3c7e    10\n",
       "6ddddc40-5b69-4253-8a26-167999a8bf96    10\n",
       "                                        ..\n",
       "66fe63d2-2e6a-416b-b094-8b7971299ec1     1\n",
       "d9e7e5fb-2a7c-47b1-86a0-0bdbc4e59a66     1\n",
       "fb5eebd0-40bd-4dbf-b74e-3a0569d6f188     1\n",
       "5de37acb-2c49-4023-9a6c-c460d60d3574     1\n",
       "963f436b-358e-4976-8871-7c48bbf0b435     1\n",
       "Name: merchant_id, Length: 5725, dtype: int64"
      ]
     },
     "execution_count": 19,
     "metadata": {},
     "output_type": "execute_result"
    }
   ],
   "source": [
    "trans_data.merchant_id.value_counts()"
   ]
  },
  {
   "cell_type": "code",
   "execution_count": 20,
   "metadata": {},
   "outputs": [
    {
     "data": {
      "text/plain": [
       "0.0    883\n",
       "Name: merchant_code, dtype: int64"
      ]
     },
     "execution_count": 20,
     "metadata": {},
     "output_type": "execute_result"
    }
   ],
   "source": [
    "trans_data.merchant_code.value_counts()"
   ]
  },
  {
   "cell_type": "code",
   "execution_count": 21,
   "metadata": {},
   "outputs": [
    {
     "data": {
      "text/plain": [
       "array([ 0., nan, nan, ..., nan, nan, nan])"
      ]
     },
     "execution_count": 21,
     "metadata": {},
     "output_type": "execute_result"
    }
   ],
   "source": [
    "np.unique(trans_data['merchant_code'])"
   ]
  },
  {
   "cell_type": "code",
   "execution_count": 22,
   "metadata": {},
   "outputs": [
    {
     "data": {
      "text/plain": [
       "array(['Abigail', 'Alexander', 'Amy', 'Andrew', 'Antonio', 'Ashley',\n",
       "       'Barry', 'Billy', 'Brian', 'Catherine', 'Charles', 'Christine',\n",
       "       'Christopher', 'Cindy', 'Craig', 'Daniel', 'Darren', 'David',\n",
       "       'Debra', 'Derek', 'Diana', 'Donald', 'Dustin', 'Edward',\n",
       "       'Elizabeth', 'Emily', 'Eric', 'Fernando', 'Gregory', 'Heather',\n",
       "       'Isaiah', 'Jacqueline', 'James', 'Jeffrey', 'Jessica', 'Jonathan',\n",
       "       'Joseph', 'Kaitlyn', 'Karen', 'Kenneth', 'Kimberly', 'Kristin',\n",
       "       'Linda', 'Lori', 'Lucas', 'Luis', 'Mackenzie', 'Maria', 'Marissa',\n",
       "       'Mary', 'Matthew', 'Melissa', 'Michael', 'Michele', 'Michelle',\n",
       "       'Natasha', 'Nathaniel', 'Patrick', 'Paul', 'Rachael', 'Renee',\n",
       "       'Rhonda', 'Richard', 'Ricky', 'Robert', 'Robin', 'Ronald', 'Ruth',\n",
       "       'Ryan', 'Sandra', 'Sarah', 'Scott', 'Stephanie', 'Susan',\n",
       "       'Tiffany', 'Tim', 'Timothy', 'Tonya', 'Tyler', 'Virginia'],\n",
       "      dtype=object)"
      ]
     },
     "execution_count": 22,
     "metadata": {},
     "output_type": "execute_result"
    }
   ],
   "source": [
    "np.unique(trans_data['first_name'])"
   ]
  },
  {
   "cell_type": "code",
   "execution_count": 23,
   "metadata": {},
   "outputs": [
    {
     "data": {
      "text/plain": [
       "array([2.4000000e-01, 2.5000000e-01, 9.8000000e-01, ..., 2.6705066e+05,\n",
       "       2.6709366e+05, 2.6712852e+05])"
      ]
     },
     "execution_count": 23,
     "metadata": {},
     "output_type": "execute_result"
    }
   ],
   "source": [
    "np.unique(trans_data['balance'])"
   ]
  },
  {
   "cell_type": "code",
   "execution_count": 24,
   "metadata": {},
   "outputs": [
    {
     "data": {
      "text/plain": [
       "dtype('float64')"
      ]
     },
     "execution_count": 24,
     "metadata": {},
     "output_type": "execute_result"
    }
   ],
   "source": [
    "trans_data.balance.dtype"
   ]
  },
  {
   "cell_type": "code",
   "execution_count": 25,
   "metadata": {},
   "outputs": [
    {
     "data": {
      "text/plain": [
       "M    6285\n",
       "F    5758\n",
       "Name: gender, dtype: int64"
      ]
     },
     "execution_count": 25,
     "metadata": {},
     "output_type": "execute_result"
    }
   ],
   "source": [
    "trans_data.gender.value_counts()"
   ]
  },
  {
   "cell_type": "code",
   "execution_count": 26,
   "metadata": {},
   "outputs": [
    {
     "data": {
      "text/plain": [
       "array(['F', 'M'], dtype=object)"
      ]
     },
     "execution_count": 26,
     "metadata": {},
     "output_type": "execute_result"
    }
   ],
   "source": [
    "np.unique(trans_data['gender'])"
   ]
  },
  {
   "cell_type": "code",
   "execution_count": 27,
   "metadata": {},
   "outputs": [
    {
     "data": {
      "text/plain": [
       "dtype('O')"
      ]
     },
     "execution_count": 27,
     "metadata": {},
     "output_type": "execute_result"
    }
   ],
   "source": [
    "trans_data.gender.dtype"
   ]
  },
  {
   "cell_type": "code",
   "execution_count": 28,
   "metadata": {},
   "outputs": [
    {
     "data": {
      "text/plain": [
       "array([18, 19, 20, 21, 22, 23, 24, 25, 26, 27, 28, 29, 30, 31, 33, 34, 35,\n",
       "       37, 38, 39, 40, 41, 42, 43, 44, 46, 47, 50, 52, 53, 64, 69, 78],\n",
       "      dtype=int64)"
      ]
     },
     "execution_count": 28,
     "metadata": {},
     "output_type": "execute_result"
    }
   ],
   "source": [
    "np.unique(trans_data['age'])"
   ]
  },
  {
   "cell_type": "code",
   "execution_count": 29,
   "metadata": {},
   "outputs": [
    {
     "data": {
      "text/plain": [
       "Melbourne           255\n",
       "Sydney              233\n",
       "Southport            82\n",
       "Brisbane City        79\n",
       "Chatswood            55\n",
       "                   ... \n",
       "Mooloolah Valley      1\n",
       "Forest Lake           1\n",
       "Duaringa              1\n",
       "South Turramurra      1\n",
       "Oakleigh South        1\n",
       "Name: merchant_suburb, Length: 1609, dtype: int64"
      ]
     },
     "execution_count": 29,
     "metadata": {},
     "output_type": "execute_result"
    }
   ],
   "source": [
    "trans_data.merchant_suburb.value_counts()"
   ]
  },
  {
   "cell_type": "code",
   "execution_count": 30,
   "metadata": {},
   "outputs": [
    {
     "data": {
      "text/plain": [
       "dtype('O')"
      ]
     },
     "execution_count": 30,
     "metadata": {},
     "output_type": "execute_result"
    }
   ],
   "source": [
    "trans_data.merchant_suburb.dtype"
   ]
  },
  {
   "cell_type": "code",
   "execution_count": 31,
   "metadata": {},
   "outputs": [
    {
     "data": {
      "text/plain": [
       "NSW    2169\n",
       "VIC    2131\n",
       "QLD    1556\n",
       "WA     1100\n",
       "SA      415\n",
       "NT      205\n",
       "ACT      73\n",
       "TAS      68\n",
       "Name: merchant_state, dtype: int64"
      ]
     },
     "execution_count": 31,
     "metadata": {},
     "output_type": "execute_result"
    }
   ],
   "source": [
    "trans_data.merchant_state.value_counts()"
   ]
  },
  {
   "cell_type": "code",
   "execution_count": 32,
   "metadata": {},
   "outputs": [
    {
     "data": {
      "text/plain": [
       "2018-09-03T11:00:00.000+0000    10\n",
       "2018-10-02T17:00:00.000+0000     9\n",
       "2018-10-23T17:00:00.000+0000     9\n",
       "2018-08-07T17:00:00.000+0000     9\n",
       "2018-10-01T11:00:00.000+0000     9\n",
       "                                ..\n",
       "2018-09-14T16:37:02.000+0000     1\n",
       "2018-09-20T17:53:11.000+0000     1\n",
       "2018-09-07T08:22:29.000+0000     1\n",
       "2018-10-06T23:35:47.000+0000     1\n",
       "2018-08-02T22:56:28.000+0000     1\n",
       "Name: extraction, Length: 9442, dtype: int64"
      ]
     },
     "execution_count": 32,
     "metadata": {},
     "output_type": "execute_result"
    }
   ],
   "source": [
    "trans_data.extraction.value_counts()"
   ]
  },
  {
   "cell_type": "code",
   "execution_count": 33,
   "metadata": {},
   "outputs": [
    {
     "data": {
      "text/plain": [
       "array(['2018-08-01T01:01:15.000+0000', '2018-08-01T01:13:45.000+0000',\n",
       "       '2018-08-01T01:26:15.000+0000', ...,\n",
       "       '2018-10-31T23:34:25.000+0000', '2018-10-31T23:47:05.000+0000',\n",
       "       '2018-10-31T23:59:44.000+0000'], dtype=object)"
      ]
     },
     "execution_count": 33,
     "metadata": {},
     "output_type": "execute_result"
    }
   ],
   "source": [
    "np.unique(trans_data['extraction'])"
   ]
  },
  {
   "cell_type": "code",
   "execution_count": 34,
   "metadata": {},
   "outputs": [
    {
     "data": {
      "text/plain": [
       "array([1.00000e-01, 7.60000e-01, 1.52000e+00, ..., 6.10723e+03,\n",
       "       7.08109e+03, 8.83598e+03])"
      ]
     },
     "execution_count": 34,
     "metadata": {},
     "output_type": "execute_result"
    }
   ],
   "source": [
    "np.unique(trans_data['amount'])"
   ]
  },
  {
   "cell_type": "code",
   "execution_count": 35,
   "metadata": {},
   "outputs": [
    {
     "data": {
      "text/plain": [
       "dtype('float64')"
      ]
     },
     "execution_count": 35,
     "metadata": {},
     "output_type": "execute_result"
    }
   ],
   "source": [
    "trans_data.amount.dtype"
   ]
  },
  {
   "cell_type": "code",
   "execution_count": 36,
   "metadata": {},
   "outputs": [
    {
     "data": {
      "text/plain": [
       "Australia    12043\n",
       "Name: country, dtype: int64"
      ]
     },
     "execution_count": 36,
     "metadata": {},
     "output_type": "execute_result"
    }
   ],
   "source": [
    "trans_data.country.value_counts()"
   ]
  },
  {
   "cell_type": "code",
   "execution_count": 37,
   "metadata": {},
   "outputs": [
    {
     "data": {
      "text/plain": [
       "array(['Australia'], dtype=object)"
      ]
     },
     "execution_count": 37,
     "metadata": {},
     "output_type": "execute_result"
    }
   ],
   "source": [
    "np.unique(trans_data['country'])"
   ]
  },
  {
   "cell_type": "code",
   "execution_count": 38,
   "metadata": {},
   "outputs": [
    {
     "data": {
      "text/plain": [
       "151.21 -33.87    145\n",
       "144.96 -37.82     85\n",
       "144.97 -37.81     59\n",
       "144.96 -37.81     56\n",
       "153.02 -27.47     46\n",
       "                ... \n",
       "153.21 -27.57      1\n",
       "144.93 -37.81      1\n",
       "151.77 -32.93      1\n",
       "151.1 -34.03       1\n",
       "144.96 -37.7       1\n",
       "Name: merchant_long_lat, Length: 2703, dtype: int64"
      ]
     },
     "execution_count": 38,
     "metadata": {},
     "output_type": "execute_result"
    }
   ],
   "source": [
    "trans_data.merchant_long_lat.value_counts()"
   ]
  },
  {
   "cell_type": "code",
   "execution_count": 39,
   "metadata": {},
   "outputs": [
    {
     "data": {
      "text/plain": [
       "debit     11160\n",
       "credit      883\n",
       "Name: movement, dtype: int64"
      ]
     },
     "execution_count": 39,
     "metadata": {},
     "output_type": "execute_result"
    }
   ],
   "source": [
    "trans_data.movement.value_counts()"
   ]
  },
  {
   "cell_type": "code",
   "execution_count": 40,
   "metadata": {},
   "outputs": [
    {
     "data": {
      "text/plain": [
       "array(['credit', 'debit'], dtype=object)"
      ]
     },
     "execution_count": 40,
     "metadata": {},
     "output_type": "execute_result"
    }
   ],
   "source": [
    "np.unique(trans_data['movement'])"
   ]
  },
  {
   "cell_type": "code",
   "execution_count": 41,
   "metadata": {},
   "outputs": [
    {
     "data": {
      "text/plain": [
       "October      4087\n",
       "September    4013\n",
       "August       3943\n",
       "Name: trans_month, dtype: int64"
      ]
     },
     "execution_count": 41,
     "metadata": {},
     "output_type": "execute_result"
    }
   ],
   "source": [
    "trans_data.trans_month.value_counts()"
   ]
  },
  {
   "cell_type": "code",
   "execution_count": 42,
   "metadata": {},
   "outputs": [
    {
     "data": {
      "text/plain": [
       "array(['August', 'October', 'September'], dtype=object)"
      ]
     },
     "execution_count": 42,
     "metadata": {},
     "output_type": "execute_result"
    }
   ],
   "source": [
    "np.unique(trans_data['trans_month'])"
   ]
  },
  {
   "cell_type": "code",
   "execution_count": 43,
   "metadata": {},
   "outputs": [
    {
     "data": {
      "text/plain": [
       "status               0.000000\n",
       "card_present_flag    0.359213\n",
       "bpay_biller_code     0.926513\n",
       "account              0.000000\n",
       "currency             0.000000\n",
       "long_lat             0.000000\n",
       "txn_description      0.000000\n",
       "merchant_id          0.359213\n",
       "merchant_code        0.926679\n",
       "first_name           0.000000\n",
       "balance              0.000000\n",
       "date                 0.000000\n",
       "gender               0.000000\n",
       "age                  0.000000\n",
       "merchant_suburb      0.359213\n",
       "merchant_state       0.359213\n",
       "extraction           0.000000\n",
       "amount               0.000000\n",
       "transaction_id       0.000000\n",
       "country              0.000000\n",
       "customer_id          0.000000\n",
       "merchant_long_lat    0.359213\n",
       "movement             0.000000\n",
       "trans_month          0.000000\n",
       "dtype: float64"
      ]
     },
     "execution_count": 43,
     "metadata": {},
     "output_type": "execute_result"
    }
   ],
   "source": [
    "trans_data.isnull().mean()"
   ]
  },
  {
   "cell_type": "code",
   "execution_count": 92,
   "metadata": {},
   "outputs": [],
   "source": [
    "trans_data.drop(['merchant_code'], axis = 1, inplace = True)"
   ]
  },
  {
   "cell_type": "code",
   "execution_count": 93,
   "metadata": {},
   "outputs": [],
   "source": [
    "trans_data.drop(['bpay_biller_code'], axis = 1, inplace = True)"
   ]
  },
  {
   "cell_type": "code",
   "execution_count": 94,
   "metadata": {},
   "outputs": [],
   "source": [
    "trans_data.drop(['card_present_flag', ], axis = 1, inplace = True)"
   ]
  },
  {
   "cell_type": "code",
   "execution_count": 95,
   "metadata": {},
   "outputs": [],
   "source": [
    "trans_data.drop(['merchant_id'], axis = 1, inplace = True)"
   ]
  },
  {
   "cell_type": "code",
   "execution_count": 96,
   "metadata": {},
   "outputs": [
    {
     "data": {
      "text/plain": [
       "status               0.000000\n",
       "account              0.000000\n",
       "currency             0.000000\n",
       "long_lat             0.000000\n",
       "txn_description      0.000000\n",
       "first_name           0.000000\n",
       "balance              0.000000\n",
       "date                 0.000000\n",
       "gender               0.000000\n",
       "age                  0.000000\n",
       "merchant_suburb      0.359213\n",
       "merchant_state       0.359213\n",
       "extraction           0.000000\n",
       "amount               0.000000\n",
       "transaction_id       0.000000\n",
       "country              0.000000\n",
       "customer_id          0.000000\n",
       "merchant_long_lat    0.359213\n",
       "movement             0.000000\n",
       "trans_month          0.000000\n",
       "dtype: float64"
      ]
     },
     "execution_count": 96,
     "metadata": {},
     "output_type": "execute_result"
    }
   ],
   "source": [
    "trans_data.isnull().mean()"
   ]
  },
  {
   "cell_type": "code",
   "execution_count": 97,
   "metadata": {},
   "outputs": [],
   "source": [
    "trans_data['merchant_suburb'].fillna(trans_data['merchant_suburb'].mode()[0], inplace = True)"
   ]
  },
  {
   "cell_type": "code",
   "execution_count": 98,
   "metadata": {},
   "outputs": [],
   "source": [
    "trans_data['merchant_state'].fillna(trans_data['merchant_state'].mode()[0], inplace = True)"
   ]
  },
  {
   "cell_type": "code",
   "execution_count": 99,
   "metadata": {},
   "outputs": [
    {
     "data": {
      "text/plain": [
       "status               0.000000\n",
       "account              0.000000\n",
       "currency             0.000000\n",
       "long_lat             0.000000\n",
       "txn_description      0.000000\n",
       "first_name           0.000000\n",
       "balance              0.000000\n",
       "date                 0.000000\n",
       "gender               0.000000\n",
       "age                  0.000000\n",
       "merchant_suburb      0.000000\n",
       "merchant_state       0.000000\n",
       "extraction           0.000000\n",
       "amount               0.000000\n",
       "transaction_id       0.000000\n",
       "country              0.000000\n",
       "customer_id          0.000000\n",
       "merchant_long_lat    0.359213\n",
       "movement             0.000000\n",
       "trans_month          0.000000\n",
       "dtype: float64"
      ]
     },
     "execution_count": 99,
     "metadata": {},
     "output_type": "execute_result"
    }
   ],
   "source": [
    "trans_data.isnull().mean()"
   ]
  },
  {
   "cell_type": "code",
   "execution_count": 100,
   "metadata": {},
   "outputs": [],
   "source": [
    "trans_data.drop(['merchant_long_lat'], axis = 1, inplace = True)"
   ]
  },
  {
   "cell_type": "code",
   "execution_count": 101,
   "metadata": {},
   "outputs": [
    {
     "data": {
      "text/plain": [
       "status             0\n",
       "account            0\n",
       "currency           0\n",
       "long_lat           0\n",
       "txn_description    0\n",
       "first_name         0\n",
       "balance            0\n",
       "date               0\n",
       "gender             0\n",
       "age                0\n",
       "merchant_suburb    0\n",
       "merchant_state     0\n",
       "extraction         0\n",
       "amount             0\n",
       "transaction_id     0\n",
       "country            0\n",
       "customer_id        0\n",
       "movement           0\n",
       "trans_month        0\n",
       "dtype: int64"
      ]
     },
     "execution_count": 101,
     "metadata": {},
     "output_type": "execute_result"
    }
   ],
   "source": [
    "trans_data.isnull().sum()"
   ]
  },
  {
   "cell_type": "code",
   "execution_count": 102,
   "metadata": {},
   "outputs": [
    {
     "data": {
      "image/png": "[encoded data removed]",
      "text/plain": [
       "<Figure size 864x576 with 1 Axes>"
      ]
     },
     "metadata": {
      "needs_background": "light"
     },
     "output_type": "display_data"
    }
   ],
   "source": [
    "plt.figure(figsize = (12,8))\n",
    "plt.hist(trans_data['age'], color = 'blue', edgecolor = 'white', bins = 10)\n",
    "plt.title('Histogram of customer age')\n",
    "plt.xlabel('Age')\n",
    "plt.ylabel('Frequency')\n",
    "plt.savefig('age.png')"
   ]
  },
  {
   "cell_type": "code",
   "execution_count": 104,
   "metadata": {},
   "outputs": [
    {
     "data": {
      "image/png": "[encoded data removed]",
      "text/plain": [
       "<Figure size 864x576 with 1 Axes>"
      ]
     },
     "metadata": {
      "needs_background": "light"
     },
     "output_type": "display_data"
    }
   ],
   "source": [
    "plt.figure(figsize = (12,8))\n",
    "sn.boxplot(x = trans_data['gender'], y = trans_data['age'])\n",
    "plt.savefig('age-boxplot.png')"
   ]
  },
  {
   "cell_type": "code",
   "execution_count": 98,
   "metadata": {},
   "outputs": [
    {
     "data": {
      "text/plain": [
       "26    893\n",
       "38    767\n",
       "20    765\n",
       "21    733\n",
       "24    732\n",
       "40    704\n",
       "19    693\n",
       "34    537\n",
       "25    515\n",
       "30    499\n",
       "43    473\n",
       "35    444\n",
       "27    443\n",
       "18    442\n",
       "28    414\n",
       "22    399\n",
       "23    309\n",
       "39    283\n",
       "37    276\n",
       "31    255\n",
       "42    232\n",
       "44    160\n",
       "46    153\n",
       "33    139\n",
       "29    134\n",
       "41    121\n",
       "47    110\n",
       "69    102\n",
       "64     88\n",
       "52     77\n",
       "53     73\n",
       "50     44\n",
       "78     34\n",
       "Name: age, dtype: int64"
      ]
     },
     "execution_count": 98,
     "metadata": {},
     "output_type": "execute_result"
    }
   ],
   "source": [
    "trans_data['age'].value_counts()"
   ]
  },
  {
   "cell_type": "code",
   "execution_count": 79,
   "metadata": {},
   "outputs": [
    {
     "data": {
      "text/plain": [
       "<matplotlib.axes._subplots.AxesSubplot at 0x232cf1d1cc8>"
      ]
     },
     "execution_count": 79,
     "metadata": {},
     "output_type": "execute_result"
    },
    {
     "data": {
      "image/png": "[encoded data removed]",
      "text/plain": [
       "<Figure size 432x288 with 1 Axes>"
      ]
     },
     "metadata": {
      "needs_background": "light"
     },
     "output_type": "display_data"
    }
   ],
   "source": [
    "sn.countplot(x = 'gender', data = trans_data)"
   ]
  },
  {
   "cell_type": "code",
   "execution_count": 85,
   "metadata": {},
   "outputs": [
    {
     "data": {
      "text/plain": [
       "<matplotlib.axes._subplots.AxesSubplot at 0x232cf361888>"
      ]
     },
     "execution_count": 85,
     "metadata": {},
     "output_type": "execute_result"
    },
    {
     "data": {
      "image/png": "[encoded data removed]",
      "text/plain": [
       "<Figure size 864x576 with 1 Axes>"
      ]
     },
     "metadata": {
      "needs_background": "light"
     },
     "output_type": "display_data"
    }
   ],
   "source": [
    "plt.figure(figsize = (12, 8))\n",
    "sn.countplot(x = 'movement', data = trans_data, hue = 'merchant_state')"
   ]
  },
  {
   "cell_type": "markdown",
   "metadata": {},
   "source": [
    "### Average amount spent by a customer per month"
   ]
  },
  {
   "cell_type": "code",
   "execution_count": 73,
   "metadata": {},
   "outputs": [
    {
     "name": "stdout",
     "output_type": "stream",
     "text": [
      "trans_month\n",
      "August       185.121867\n",
      "October      196.427323\n",
      "September    182.045903\n",
      "Name: amount, dtype: float64\n"
     ]
    }
   ],
   "source": [
    "avg_amount_per_month = trans_data.groupby('trans_month')\n",
    "aa = avg_amount_per_month['amount'].agg(np.mean)\n",
    "print(aa)"
   ]
  },
  {
   "cell_type": "markdown",
   "metadata": {},
   "source": [
    "### Average amount spent by a customers per state "
   ]
  },
  {
   "cell_type": "code",
   "execution_count": 72,
   "metadata": {},
   "outputs": [
    {
     "name": "stdout",
     "output_type": "stream",
     "text": [
      "merchant_state\n",
      "ACT     66.803836\n",
      "NSW    316.464915\n",
      "NT      44.726293\n",
      "QLD     34.372397\n",
      "SA      40.425470\n",
      "TAS     28.866618\n",
      "VIC     41.099953\n",
      "WA      30.901873\n",
      "Name: amount, dtype: float64\n"
     ]
    }
   ],
   "source": [
    "avg_amount_per_state = trans_data.groupby('merchant_state')\n",
    "bb = avg_amount_per_state['amount'].agg(np.mean)\n",
    "print(bb)"
   ]
  },
  {
   "cell_type": "markdown",
   "metadata": {},
   "source": [
    "### Number of transactions per month"
   ]
  },
  {
   "cell_type": "code",
   "execution_count": 71,
   "metadata": {},
   "outputs": [
    {
     "name": "stdout",
     "output_type": "stream",
     "text": [
      "trans_month\n",
      "August       3943\n",
      "October      4087\n",
      "September    4013\n",
      "Name: transaction_id, dtype: int64\n"
     ]
    }
   ],
   "source": [
    "trans_per_month = trans_data.groupby('trans_month')\n",
    "cc = trans_per_month['transaction_id'].count()\n",
    "print(cc)"
   ]
  },
  {
   "cell_type": "markdown",
   "metadata": {},
   "source": [
    "### Number of transactions based on gender"
   ]
  },
  {
   "cell_type": "code",
   "execution_count": 70,
   "metadata": {},
   "outputs": [
    {
     "name": "stdout",
     "output_type": "stream",
     "text": [
      "gender\n",
      "F    5758\n",
      "M    6285\n",
      "Name: transaction_id, dtype: int64\n"
     ]
    }
   ],
   "source": [
    "trans_per_gender = trans_data.groupby('gender')\n",
    "dd = trans_per_gender['transaction_id'].count()\n",
    "print(dd)"
   ]
  },
  {
   "cell_type": "markdown",
   "metadata": {},
   "source": [
    "### Number of transactions made by each customer per month"
   ]
  },
  {
   "cell_type": "code",
   "execution_count": 95,
   "metadata": {},
   "outputs": [
    {
     "name": "stdout",
     "output_type": "stream",
     "text": [
      "customer_id     trans_month\n",
      "CUS-1005756958  August         50\n",
      "                October         9\n",
      "                September      14\n",
      "CUS-1117979751  August         43\n",
      "                October        32\n",
      "                               ..\n",
      "CUS-880898248   October        29\n",
      "                September      17\n",
      "CUS-883482547   August         61\n",
      "                October        59\n",
      "                September      58\n",
      "Name: transaction_id, Length: 300, dtype: int64\n"
     ]
    }
   ],
   "source": [
    "trans_cust_per_month = trans_data.groupby(['customer_id', 'trans_month'])\n",
    "hh = trans_cust_per_month['transaction_id'].count()\n",
    "print(hh)"
   ]
  },
  {
   "cell_type": "markdown",
   "metadata": {},
   "source": [
    "### Average amount spent based on gender"
   ]
  },
  {
   "cell_type": "code",
   "execution_count": 69,
   "metadata": {},
   "outputs": [
    {
     "name": "stdout",
     "output_type": "stream",
     "text": [
      "gender\n",
      "F    168.517303\n",
      "M    205.721809\n",
      "Name: amount, dtype: float64\n"
     ]
    }
   ],
   "source": [
    "avg_amount_gender = trans_data.groupby('gender')\n",
    "ee = avg_amount_gender['amount'].agg(np.mean)\n",
    "print(ee)"
   ]
  },
  {
   "cell_type": "markdown",
   "metadata": {},
   "source": [
    "### Number of transactions per merchant city"
   ]
  },
  {
   "cell_type": "code",
   "execution_count": 68,
   "metadata": {},
   "outputs": [
    {
     "name": "stdout",
     "output_type": "stream",
     "text": [
      "merchant_suburb\n",
      "Abbotsford        5\n",
      "Aberdeen          2\n",
      "Aberfeldie        1\n",
      "Aberfoyle Park    2\n",
      "Acacia Ridge      1\n",
      "                 ..\n",
      "Yulara            1\n",
      "Yungaburra        3\n",
      "Zetland           3\n",
      "Zillmere          1\n",
      "Zuccoli           2\n",
      "Name: transaction_id, Length: 1609, dtype: int64\n"
     ]
    }
   ],
   "source": [
    "trans_merchant_sub = trans_data.groupby('merchant_suburb')\n",
    "ff = trans_merchant_sub['transaction_id'].count()\n",
    "print(ff)"
   ]
  },
  {
   "cell_type": "markdown",
   "metadata": {},
   "source": [
    "### Average amount spent per merchant city"
   ]
  },
  {
   "cell_type": "code",
   "execution_count": 67,
   "metadata": {},
   "outputs": [
    {
     "name": "stdout",
     "output_type": "stream",
     "text": [
      "merchant_suburb\n",
      "Abbotsford        400.858000\n",
      "Aberdeen           26.225000\n",
      "Aberfeldie         57.770000\n",
      "Aberfoyle Park     42.460000\n",
      "Acacia Ridge       10.300000\n",
      "                     ...    \n",
      "Yulara             80.070000\n",
      "Yungaburra         35.126667\n",
      "Zetland            26.156667\n",
      "Zillmere           38.630000\n",
      "Zuccoli            39.675000\n",
      "Name: amount, Length: 1609, dtype: float64\n"
     ]
    }
   ],
   "source": [
    "avg_trans_merchant_sub = trans_data.groupby('merchant_suburb')\n",
    "gg = avg_trans_merchant_sub['amount'].agg(np.mean)\n",
    "print(gg)"
   ]
  },
  {
   "cell_type": "code",
   "execution_count": 101,
   "metadata": {},
   "outputs": [
    {
     "data": {
      "text/html": [
       "<div>\n",
       "<style scoped>\n",
       "    .dataframe tbody tr th:only-of-type {\n",
       "        vertical-align: middle;\n",
       "    }\n",
       "\n",
       "    .dataframe tbody tr th {\n",
       "        vertical-align: top;\n",
       "    }\n",
       "\n",
       "    .dataframe thead th {\n",
       "        text-align: right;\n",
       "    }\n",
       "</style>\n",
       "<table border=\"1\" class=\"dataframe\">\n",
       "  <thead>\n",
       "    <tr style=\"text-align: right;\">\n",
       "      <th></th>\n",
       "      <th>status</th>\n",
       "      <th>account</th>\n",
       "      <th>currency</th>\n",
       "      <th>long_lat</th>\n",
       "      <th>txn_description</th>\n",
       "      <th>first_name</th>\n",
       "      <th>balance</th>\n",
       "      <th>date</th>\n",
       "      <th>gender</th>\n",
       "      <th>age</th>\n",
       "      <th>merchant_suburb</th>\n",
       "      <th>merchant_state</th>\n",
       "      <th>extraction</th>\n",
       "      <th>amount</th>\n",
       "      <th>transaction_id</th>\n",
       "      <th>country</th>\n",
       "      <th>customer_id</th>\n",
       "      <th>merchant_long_lat</th>\n",
       "      <th>movement</th>\n",
       "      <th>trans_month</th>\n",
       "    </tr>\n",
       "  </thead>\n",
       "  <tbody>\n",
       "    <tr>\n",
       "      <td>0</td>\n",
       "      <td>authorized</td>\n",
       "      <td>ACC-1598451071</td>\n",
       "      <td>AUD</td>\n",
       "      <td>153.41 -27.95</td>\n",
       "      <td>POS</td>\n",
       "      <td>Diana</td>\n",
       "      <td>35.39</td>\n",
       "      <td>2018-08-01</td>\n",
       "      <td>F</td>\n",
       "      <td>26</td>\n",
       "      <td>Ashmore</td>\n",
       "      <td>QLD</td>\n",
       "      <td>2018-08-01T01:01:15.000+0000</td>\n",
       "      <td>16.25</td>\n",
       "      <td>a623070bfead4541a6b0fff8a09e706c</td>\n",
       "      <td>Australia</td>\n",
       "      <td>CUS-2487424745</td>\n",
       "      <td>153.38 -27.99</td>\n",
       "      <td>debit</td>\n",
       "      <td>August</td>\n",
       "    </tr>\n",
       "    <tr>\n",
       "      <td>1</td>\n",
       "      <td>authorized</td>\n",
       "      <td>ACC-1598451071</td>\n",
       "      <td>AUD</td>\n",
       "      <td>153.41 -27.95</td>\n",
       "      <td>SALES-POS</td>\n",
       "      <td>Diana</td>\n",
       "      <td>21.20</td>\n",
       "      <td>2018-08-01</td>\n",
       "      <td>F</td>\n",
       "      <td>26</td>\n",
       "      <td>Sydney</td>\n",
       "      <td>NSW</td>\n",
       "      <td>2018-08-01T01:13:45.000+0000</td>\n",
       "      <td>14.19</td>\n",
       "      <td>13270a2a902145da9db4c951e04b51b9</td>\n",
       "      <td>Australia</td>\n",
       "      <td>CUS-2487424745</td>\n",
       "      <td>151.21 -33.87</td>\n",
       "      <td>debit</td>\n",
       "      <td>August</td>\n",
       "    </tr>\n",
       "    <tr>\n",
       "      <td>2</td>\n",
       "      <td>authorized</td>\n",
       "      <td>ACC-1222300524</td>\n",
       "      <td>AUD</td>\n",
       "      <td>151.23 -33.94</td>\n",
       "      <td>POS</td>\n",
       "      <td>Michael</td>\n",
       "      <td>5.71</td>\n",
       "      <td>2018-08-01</td>\n",
       "      <td>M</td>\n",
       "      <td>38</td>\n",
       "      <td>Sydney</td>\n",
       "      <td>NSW</td>\n",
       "      <td>2018-08-01T01:26:15.000+0000</td>\n",
       "      <td>6.42</td>\n",
       "      <td>feb79e7ecd7048a5a36ec889d1a94270</td>\n",
       "      <td>Australia</td>\n",
       "      <td>CUS-2142601169</td>\n",
       "      <td>151.21 -33.87</td>\n",
       "      <td>debit</td>\n",
       "      <td>August</td>\n",
       "    </tr>\n",
       "    <tr>\n",
       "      <td>3</td>\n",
       "      <td>authorized</td>\n",
       "      <td>ACC-1037050564</td>\n",
       "      <td>AUD</td>\n",
       "      <td>153.10 -27.66</td>\n",
       "      <td>SALES-POS</td>\n",
       "      <td>Rhonda</td>\n",
       "      <td>2117.22</td>\n",
       "      <td>2018-08-01</td>\n",
       "      <td>F</td>\n",
       "      <td>40</td>\n",
       "      <td>Buderim</td>\n",
       "      <td>QLD</td>\n",
       "      <td>2018-08-01T01:38:45.000+0000</td>\n",
       "      <td>40.90</td>\n",
       "      <td>2698170da3704fd981b15e64a006079e</td>\n",
       "      <td>Australia</td>\n",
       "      <td>CUS-1614226872</td>\n",
       "      <td>153.05 -26.68</td>\n",
       "      <td>debit</td>\n",
       "      <td>August</td>\n",
       "    </tr>\n",
       "    <tr>\n",
       "      <td>4</td>\n",
       "      <td>authorized</td>\n",
       "      <td>ACC-1598451071</td>\n",
       "      <td>AUD</td>\n",
       "      <td>153.41 -27.95</td>\n",
       "      <td>SALES-POS</td>\n",
       "      <td>Diana</td>\n",
       "      <td>17.95</td>\n",
       "      <td>2018-08-01</td>\n",
       "      <td>F</td>\n",
       "      <td>26</td>\n",
       "      <td>Mermaid Beach</td>\n",
       "      <td>QLD</td>\n",
       "      <td>2018-08-01T01:51:15.000+0000</td>\n",
       "      <td>3.25</td>\n",
       "      <td>329adf79878c4cf0aeb4188b4691c266</td>\n",
       "      <td>Australia</td>\n",
       "      <td>CUS-2487424745</td>\n",
       "      <td>153.44 -28.06</td>\n",
       "      <td>debit</td>\n",
       "      <td>August</td>\n",
       "    </tr>\n",
       "    <tr>\n",
       "      <td>...</td>\n",
       "      <td>...</td>\n",
       "      <td>...</td>\n",
       "      <td>...</td>\n",
       "      <td>...</td>\n",
       "      <td>...</td>\n",
       "      <td>...</td>\n",
       "      <td>...</td>\n",
       "      <td>...</td>\n",
       "      <td>...</td>\n",
       "      <td>...</td>\n",
       "      <td>...</td>\n",
       "      <td>...</td>\n",
       "      <td>...</td>\n",
       "      <td>...</td>\n",
       "      <td>...</td>\n",
       "      <td>...</td>\n",
       "      <td>...</td>\n",
       "      <td>...</td>\n",
       "      <td>...</td>\n",
       "      <td>...</td>\n",
       "    </tr>\n",
       "    <tr>\n",
       "      <td>11907</td>\n",
       "      <td>authorized</td>\n",
       "      <td>ACC-1598451071</td>\n",
       "      <td>AUD</td>\n",
       "      <td>153.41 -27.95</td>\n",
       "      <td>SALES-POS</td>\n",
       "      <td>Diana</td>\n",
       "      <td>1382.35</td>\n",
       "      <td>2018-10-31</td>\n",
       "      <td>F</td>\n",
       "      <td>26</td>\n",
       "      <td>Elsternwick</td>\n",
       "      <td>VIC</td>\n",
       "      <td>2018-10-31T04:15:51.000+0000</td>\n",
       "      <td>33.51</td>\n",
       "      <td>a7711333efb1487da79d1c7d712d7ec1</td>\n",
       "      <td>Australia</td>\n",
       "      <td>CUS-2487424745</td>\n",
       "      <td>145 -37.89</td>\n",
       "      <td>debit</td>\n",
       "      <td>October</td>\n",
       "    </tr>\n",
       "    <tr>\n",
       "      <td>11908</td>\n",
       "      <td>authorized</td>\n",
       "      <td>ACC-1598451071</td>\n",
       "      <td>AUD</td>\n",
       "      <td>153.41 -27.95</td>\n",
       "      <td>POS</td>\n",
       "      <td>Diana</td>\n",
       "      <td>1379.59</td>\n",
       "      <td>2018-10-31</td>\n",
       "      <td>F</td>\n",
       "      <td>26</td>\n",
       "      <td>Southport</td>\n",
       "      <td>QLD</td>\n",
       "      <td>2018-10-31T04:50:20.000+0000</td>\n",
       "      <td>2.76</td>\n",
       "      <td>685308084eb644aea61724486d9ebfa6</td>\n",
       "      <td>Australia</td>\n",
       "      <td>CUS-2487424745</td>\n",
       "      <td>153.41 -27.97</td>\n",
       "      <td>debit</td>\n",
       "      <td>October</td>\n",
       "    </tr>\n",
       "    <tr>\n",
       "      <td>11909</td>\n",
       "      <td>posted</td>\n",
       "      <td>ACC-602667573</td>\n",
       "      <td>AUD</td>\n",
       "      <td>151.23 -33.96</td>\n",
       "      <td>INTER BANK</td>\n",
       "      <td>Michael</td>\n",
       "      <td>23943.97</td>\n",
       "      <td>2018-10-31</td>\n",
       "      <td>M</td>\n",
       "      <td>40</td>\n",
       "      <td>Melbourne</td>\n",
       "      <td>NSW</td>\n",
       "      <td>2018-10-31T06:00:00.000+0000</td>\n",
       "      <td>21.00</td>\n",
       "      <td>7deec725aba54be8b1a6b9a91028a675</td>\n",
       "      <td>Australia</td>\n",
       "      <td>CUS-2031327464</td>\n",
       "      <td>NaN</td>\n",
       "      <td>debit</td>\n",
       "      <td>October</td>\n",
       "    </tr>\n",
       "    <tr>\n",
       "      <td>11910</td>\n",
       "      <td>posted</td>\n",
       "      <td>ACC-2171593283</td>\n",
       "      <td>AUD</td>\n",
       "      <td>146.94 -36.04</td>\n",
       "      <td>PAYMENT</td>\n",
       "      <td>Fernando</td>\n",
       "      <td>17399.93</td>\n",
       "      <td>2018-10-31</td>\n",
       "      <td>M</td>\n",
       "      <td>19</td>\n",
       "      <td>Melbourne</td>\n",
       "      <td>NSW</td>\n",
       "      <td>2018-10-31T06:00:00.000+0000</td>\n",
       "      <td>27.00</td>\n",
       "      <td>b24c76d858c84c0194607356219fcbca</td>\n",
       "      <td>Australia</td>\n",
       "      <td>CUS-2317998716</td>\n",
       "      <td>NaN</td>\n",
       "      <td>debit</td>\n",
       "      <td>October</td>\n",
       "    </tr>\n",
       "    <tr>\n",
       "      <td>11911</td>\n",
       "      <td>posted</td>\n",
       "      <td>ACC-2776252858</td>\n",
       "      <td>AUD</td>\n",
       "      <td>144.95 -37.76</td>\n",
       "      <td>PAYMENT</td>\n",
       "      <td>Kristin</td>\n",
       "      <td>7960.45</td>\n",
       "      <td>2018-10-31</td>\n",
       "      <td>F</td>\n",
       "      <td>43</td>\n",
       "      <td>Melbourne</td>\n",
       "      <td>NSW</td>\n",
       "      <td>2018-10-31T06:00:00.000+0000</td>\n",
       "      <td>29.00</td>\n",
       "      <td>dfd2eaea5b144450bf43561a13523cc4</td>\n",
       "      <td>Australia</td>\n",
       "      <td>CUS-4123612273</td>\n",
       "      <td>NaN</td>\n",
       "      <td>debit</td>\n",
       "      <td>October</td>\n",
       "    </tr>\n",
       "  </tbody>\n",
       "</table>\n",
       "<p>910 rows × 20 columns</p>\n",
       "</div>"
      ],
      "text/plain": [
       "           status         account currency       long_lat txn_description  \\\n",
       "0      authorized  ACC-1598451071      AUD  153.41 -27.95             POS   \n",
       "1      authorized  ACC-1598451071      AUD  153.41 -27.95       SALES-POS   \n",
       "2      authorized  ACC-1222300524      AUD  151.23 -33.94             POS   \n",
       "3      authorized  ACC-1037050564      AUD  153.10 -27.66       SALES-POS   \n",
       "4      authorized  ACC-1598451071      AUD  153.41 -27.95       SALES-POS   \n",
       "...           ...             ...      ...            ...             ...   \n",
       "11907  authorized  ACC-1598451071      AUD  153.41 -27.95       SALES-POS   \n",
       "11908  authorized  ACC-1598451071      AUD  153.41 -27.95             POS   \n",
       "11909      posted   ACC-602667573      AUD  151.23 -33.96      INTER BANK   \n",
       "11910      posted  ACC-2171593283      AUD  146.94 -36.04         PAYMENT   \n",
       "11911      posted  ACC-2776252858      AUD  144.95 -37.76         PAYMENT   \n",
       "\n",
       "      first_name   balance       date gender  age merchant_suburb  \\\n",
       "0          Diana     35.39 2018-08-01      F   26         Ashmore   \n",
       "1          Diana     21.20 2018-08-01      F   26          Sydney   \n",
       "2        Michael      5.71 2018-08-01      M   38          Sydney   \n",
       "3         Rhonda   2117.22 2018-08-01      F   40         Buderim   \n",
       "4          Diana     17.95 2018-08-01      F   26   Mermaid Beach   \n",
       "...          ...       ...        ...    ...  ...             ...   \n",
       "11907      Diana   1382.35 2018-10-31      F   26     Elsternwick   \n",
       "11908      Diana   1379.59 2018-10-31      F   26       Southport   \n",
       "11909    Michael  23943.97 2018-10-31      M   40       Melbourne   \n",
       "11910   Fernando  17399.93 2018-10-31      M   19       Melbourne   \n",
       "11911    Kristin   7960.45 2018-10-31      F   43       Melbourne   \n",
       "\n",
       "      merchant_state                    extraction  amount  \\\n",
       "0                QLD  2018-08-01T01:01:15.000+0000   16.25   \n",
       "1                NSW  2018-08-01T01:13:45.000+0000   14.19   \n",
       "2                NSW  2018-08-01T01:26:15.000+0000    6.42   \n",
       "3                QLD  2018-08-01T01:38:45.000+0000   40.90   \n",
       "4                QLD  2018-08-01T01:51:15.000+0000    3.25   \n",
       "...              ...                           ...     ...   \n",
       "11907            VIC  2018-10-31T04:15:51.000+0000   33.51   \n",
       "11908            QLD  2018-10-31T04:50:20.000+0000    2.76   \n",
       "11909            NSW  2018-10-31T06:00:00.000+0000   21.00   \n",
       "11910            NSW  2018-10-31T06:00:00.000+0000   27.00   \n",
       "11911            NSW  2018-10-31T06:00:00.000+0000   29.00   \n",
       "\n",
       "                         transaction_id    country     customer_id  \\\n",
       "0      a623070bfead4541a6b0fff8a09e706c  Australia  CUS-2487424745   \n",
       "1      13270a2a902145da9db4c951e04b51b9  Australia  CUS-2487424745   \n",
       "2      feb79e7ecd7048a5a36ec889d1a94270  Australia  CUS-2142601169   \n",
       "3      2698170da3704fd981b15e64a006079e  Australia  CUS-1614226872   \n",
       "4      329adf79878c4cf0aeb4188b4691c266  Australia  CUS-2487424745   \n",
       "...                                 ...        ...             ...   \n",
       "11907  a7711333efb1487da79d1c7d712d7ec1  Australia  CUS-2487424745   \n",
       "11908  685308084eb644aea61724486d9ebfa6  Australia  CUS-2487424745   \n",
       "11909  7deec725aba54be8b1a6b9a91028a675  Australia  CUS-2031327464   \n",
       "11910  b24c76d858c84c0194607356219fcbca  Australia  CUS-2317998716   \n",
       "11911  dfd2eaea5b144450bf43561a13523cc4  Australia  CUS-4123612273   \n",
       "\n",
       "      merchant_long_lat movement trans_month  \n",
       "0         153.38 -27.99    debit      August  \n",
       "1         151.21 -33.87    debit      August  \n",
       "2         151.21 -33.87    debit      August  \n",
       "3         153.05 -26.68    debit      August  \n",
       "4         153.44 -28.06    debit      August  \n",
       "...                 ...      ...         ...  \n",
       "11907        145 -37.89    debit     October  \n",
       "11908     153.41 -27.97    debit     October  \n",
       "11909               NaN    debit     October  \n",
       "11910               NaN    debit     October  \n",
       "11911               NaN    debit     October  \n",
       "\n",
       "[910 rows x 20 columns]"
      ]
     },
     "execution_count": 101,
     "metadata": {},
     "output_type": "execute_result"
    }
   ],
   "source": [
    "segment_data = trans_data.groupby('date')\n",
    "segment_data.head(10)"
   ]
  },
  {
   "cell_type": "markdown",
   "metadata": {},
   "source": [
    "### Task 2 - Predictive Analytics"
   ]
  },
  {
   "cell_type": "code",
   "execution_count": 102,
   "metadata": {},
   "outputs": [
    {
     "data": {
      "text/plain": [
       "(12043, 19)"
      ]
     },
     "execution_count": 102,
     "metadata": {},
     "output_type": "execute_result"
    }
   ],
   "source": [
    "trans_data.shape"
   ]
  },
  {
   "cell_type": "code",
   "execution_count": 103,
   "metadata": {},
   "outputs": [
    {
     "data": {
      "text/plain": [
       "SALES-POS     3934\n",
       "POS           3783\n",
       "PAYMENT       2600\n",
       "PAY/SALARY     883\n",
       "INTER BANK     742\n",
       "PHONE BANK     101\n",
       "Name: txn_description, dtype: int64"
      ]
     },
     "execution_count": 103,
     "metadata": {},
     "output_type": "execute_result"
    }
   ],
   "source": [
    "trans_data['txn_description'].value_counts()"
   ]
  },
  {
   "cell_type": "code",
   "execution_count": 104,
   "metadata": {},
   "outputs": [],
   "source": [
    "new = trans_data[trans_data['txn_description'] == 'PAY/SALARY'].groupby('customer_id').mean()"
   ]
  },
  {
   "cell_type": "code",
   "execution_count": 105,
   "metadata": {},
   "outputs": [
    {
     "data": {
      "text/html": [
       "<div>\n",
       "<style scoped>\n",
       "    .dataframe tbody tr th:only-of-type {\n",
       "        vertical-align: middle;\n",
       "    }\n",
       "\n",
       "    .dataframe tbody tr th {\n",
       "        vertical-align: top;\n",
       "    }\n",
       "\n",
       "    .dataframe thead th {\n",
       "        text-align: right;\n",
       "    }\n",
       "</style>\n",
       "<table border=\"1\" class=\"dataframe\">\n",
       "  <thead>\n",
       "    <tr style=\"text-align: right;\">\n",
       "      <th></th>\n",
       "      <th>balance</th>\n",
       "      <th>age</th>\n",
       "      <th>amount</th>\n",
       "    </tr>\n",
       "    <tr>\n",
       "      <th>customer_id</th>\n",
       "      <th></th>\n",
       "      <th></th>\n",
       "      <th></th>\n",
       "    </tr>\n",
       "  </thead>\n",
       "  <tbody>\n",
       "    <tr>\n",
       "      <td>CUS-1005756958</td>\n",
       "      <td>4718.665385</td>\n",
       "      <td>53</td>\n",
       "      <td>970.47</td>\n",
       "    </tr>\n",
       "    <tr>\n",
       "      <td>CUS-1117979751</td>\n",
       "      <td>11957.202857</td>\n",
       "      <td>21</td>\n",
       "      <td>3578.65</td>\n",
       "    </tr>\n",
       "    <tr>\n",
       "      <td>CUS-1140341822</td>\n",
       "      <td>5841.720000</td>\n",
       "      <td>28</td>\n",
       "      <td>1916.51</td>\n",
       "    </tr>\n",
       "    <tr>\n",
       "      <td>CUS-1147642491</td>\n",
       "      <td>8813.467692</td>\n",
       "      <td>34</td>\n",
       "      <td>1711.39</td>\n",
       "    </tr>\n",
       "    <tr>\n",
       "      <td>CUS-1196156254</td>\n",
       "      <td>23845.717143</td>\n",
       "      <td>34</td>\n",
       "      <td>3903.73</td>\n",
       "    </tr>\n",
       "  </tbody>\n",
       "</table>\n",
       "</div>"
      ],
      "text/plain": [
       "                     balance  age   amount\n",
       "customer_id                               \n",
       "CUS-1005756958   4718.665385   53   970.47\n",
       "CUS-1117979751  11957.202857   21  3578.65\n",
       "CUS-1140341822   5841.720000   28  1916.51\n",
       "CUS-1147642491   8813.467692   34  1711.39\n",
       "CUS-1196156254  23845.717143   34  3903.73"
      ]
     },
     "execution_count": 105,
     "metadata": {},
     "output_type": "execute_result"
    }
   ],
   "source": [
    "new.head()"
   ]
  },
  {
   "cell_type": "code",
   "execution_count": 106,
   "metadata": {},
   "outputs": [],
   "source": [
    "salaries = []\n",
    "\n",
    "for customer_id in trans_data['customer_id']:\n",
    "    salaries.append(int(new.loc[customer_id]['amount']))\n",
    "\n",
    "trans_data['annual_salary'] = salaries"
   ]
  },
  {
   "cell_type": "code",
   "execution_count": 107,
   "metadata": {},
   "outputs": [
    {
     "data": {
      "text/html": [
       "<div>\n",
       "<style scoped>\n",
       "    .dataframe tbody tr th:only-of-type {\n",
       "        vertical-align: middle;\n",
       "    }\n",
       "\n",
       "    .dataframe tbody tr th {\n",
       "        vertical-align: top;\n",
       "    }\n",
       "\n",
       "    .dataframe thead th {\n",
       "        text-align: right;\n",
       "    }\n",
       "</style>\n",
       "<table border=\"1\" class=\"dataframe\">\n",
       "  <thead>\n",
       "    <tr style=\"text-align: right;\">\n",
       "      <th></th>\n",
       "      <th>status</th>\n",
       "      <th>account</th>\n",
       "      <th>currency</th>\n",
       "      <th>long_lat</th>\n",
       "      <th>txn_description</th>\n",
       "      <th>first_name</th>\n",
       "      <th>balance</th>\n",
       "      <th>date</th>\n",
       "      <th>gender</th>\n",
       "      <th>age</th>\n",
       "      <th>merchant_suburb</th>\n",
       "      <th>merchant_state</th>\n",
       "      <th>extraction</th>\n",
       "      <th>amount</th>\n",
       "      <th>transaction_id</th>\n",
       "      <th>country</th>\n",
       "      <th>customer_id</th>\n",
       "      <th>movement</th>\n",
       "      <th>trans_month</th>\n",
       "      <th>annual_salary</th>\n",
       "    </tr>\n",
       "  </thead>\n",
       "  <tbody>\n",
       "    <tr>\n",
       "      <td>0</td>\n",
       "      <td>authorized</td>\n",
       "      <td>ACC-1598451071</td>\n",
       "      <td>AUD</td>\n",
       "      <td>153.41 -27.95</td>\n",
       "      <td>POS</td>\n",
       "      <td>Diana</td>\n",
       "      <td>35.39</td>\n",
       "      <td>2018-08-01</td>\n",
       "      <td>F</td>\n",
       "      <td>26</td>\n",
       "      <td>Ashmore</td>\n",
       "      <td>QLD</td>\n",
       "      <td>2018-08-01T01:01:15.000+0000</td>\n",
       "      <td>16.25</td>\n",
       "      <td>a623070bfead4541a6b0fff8a09e706c</td>\n",
       "      <td>Australia</td>\n",
       "      <td>CUS-2487424745</td>\n",
       "      <td>debit</td>\n",
       "      <td>August</td>\n",
       "      <td>1013</td>\n",
       "    </tr>\n",
       "    <tr>\n",
       "      <td>1</td>\n",
       "      <td>authorized</td>\n",
       "      <td>ACC-1598451071</td>\n",
       "      <td>AUD</td>\n",
       "      <td>153.41 -27.95</td>\n",
       "      <td>SALES-POS</td>\n",
       "      <td>Diana</td>\n",
       "      <td>21.20</td>\n",
       "      <td>2018-08-01</td>\n",
       "      <td>F</td>\n",
       "      <td>26</td>\n",
       "      <td>Sydney</td>\n",
       "      <td>NSW</td>\n",
       "      <td>2018-08-01T01:13:45.000+0000</td>\n",
       "      <td>14.19</td>\n",
       "      <td>13270a2a902145da9db4c951e04b51b9</td>\n",
       "      <td>Australia</td>\n",
       "      <td>CUS-2487424745</td>\n",
       "      <td>debit</td>\n",
       "      <td>August</td>\n",
       "      <td>1013</td>\n",
       "    </tr>\n",
       "    <tr>\n",
       "      <td>2</td>\n",
       "      <td>authorized</td>\n",
       "      <td>ACC-1222300524</td>\n",
       "      <td>AUD</td>\n",
       "      <td>151.23 -33.94</td>\n",
       "      <td>POS</td>\n",
       "      <td>Michael</td>\n",
       "      <td>5.71</td>\n",
       "      <td>2018-08-01</td>\n",
       "      <td>M</td>\n",
       "      <td>38</td>\n",
       "      <td>Sydney</td>\n",
       "      <td>NSW</td>\n",
       "      <td>2018-08-01T01:26:15.000+0000</td>\n",
       "      <td>6.42</td>\n",
       "      <td>feb79e7ecd7048a5a36ec889d1a94270</td>\n",
       "      <td>Australia</td>\n",
       "      <td>CUS-2142601169</td>\n",
       "      <td>debit</td>\n",
       "      <td>August</td>\n",
       "      <td>1002</td>\n",
       "    </tr>\n",
       "    <tr>\n",
       "      <td>3</td>\n",
       "      <td>authorized</td>\n",
       "      <td>ACC-1037050564</td>\n",
       "      <td>AUD</td>\n",
       "      <td>153.10 -27.66</td>\n",
       "      <td>SALES-POS</td>\n",
       "      <td>Rhonda</td>\n",
       "      <td>2117.22</td>\n",
       "      <td>2018-08-01</td>\n",
       "      <td>F</td>\n",
       "      <td>40</td>\n",
       "      <td>Buderim</td>\n",
       "      <td>QLD</td>\n",
       "      <td>2018-08-01T01:38:45.000+0000</td>\n",
       "      <td>40.90</td>\n",
       "      <td>2698170da3704fd981b15e64a006079e</td>\n",
       "      <td>Australia</td>\n",
       "      <td>CUS-1614226872</td>\n",
       "      <td>debit</td>\n",
       "      <td>August</td>\n",
       "      <td>892</td>\n",
       "    </tr>\n",
       "    <tr>\n",
       "      <td>4</td>\n",
       "      <td>authorized</td>\n",
       "      <td>ACC-1598451071</td>\n",
       "      <td>AUD</td>\n",
       "      <td>153.41 -27.95</td>\n",
       "      <td>SALES-POS</td>\n",
       "      <td>Diana</td>\n",
       "      <td>17.95</td>\n",
       "      <td>2018-08-01</td>\n",
       "      <td>F</td>\n",
       "      <td>26</td>\n",
       "      <td>Mermaid Beach</td>\n",
       "      <td>QLD</td>\n",
       "      <td>2018-08-01T01:51:15.000+0000</td>\n",
       "      <td>3.25</td>\n",
       "      <td>329adf79878c4cf0aeb4188b4691c266</td>\n",
       "      <td>Australia</td>\n",
       "      <td>CUS-2487424745</td>\n",
       "      <td>debit</td>\n",
       "      <td>August</td>\n",
       "      <td>1013</td>\n",
       "    </tr>\n",
       "  </tbody>\n",
       "</table>\n",
       "</div>"
      ],
      "text/plain": [
       "       status         account currency       long_lat txn_description  \\\n",
       "0  authorized  ACC-1598451071      AUD  153.41 -27.95             POS   \n",
       "1  authorized  ACC-1598451071      AUD  153.41 -27.95       SALES-POS   \n",
       "2  authorized  ACC-1222300524      AUD  151.23 -33.94             POS   \n",
       "3  authorized  ACC-1037050564      AUD  153.10 -27.66       SALES-POS   \n",
       "4  authorized  ACC-1598451071      AUD  153.41 -27.95       SALES-POS   \n",
       "\n",
       "  first_name  balance       date gender  age merchant_suburb merchant_state  \\\n",
       "0      Diana    35.39 2018-08-01      F   26         Ashmore            QLD   \n",
       "1      Diana    21.20 2018-08-01      F   26          Sydney            NSW   \n",
       "2    Michael     5.71 2018-08-01      M   38          Sydney            NSW   \n",
       "3     Rhonda  2117.22 2018-08-01      F   40         Buderim            QLD   \n",
       "4      Diana    17.95 2018-08-01      F   26   Mermaid Beach            QLD   \n",
       "\n",
       "                     extraction  amount                    transaction_id  \\\n",
       "0  2018-08-01T01:01:15.000+0000   16.25  a623070bfead4541a6b0fff8a09e706c   \n",
       "1  2018-08-01T01:13:45.000+0000   14.19  13270a2a902145da9db4c951e04b51b9   \n",
       "2  2018-08-01T01:26:15.000+0000    6.42  feb79e7ecd7048a5a36ec889d1a94270   \n",
       "3  2018-08-01T01:38:45.000+0000   40.90  2698170da3704fd981b15e64a006079e   \n",
       "4  2018-08-01T01:51:15.000+0000    3.25  329adf79878c4cf0aeb4188b4691c266   \n",
       "\n",
       "     country     customer_id movement trans_month  annual_salary  \n",
       "0  Australia  CUS-2487424745    debit      August           1013  \n",
       "1  Australia  CUS-2487424745    debit      August           1013  \n",
       "2  Australia  CUS-2142601169    debit      August           1002  \n",
       "3  Australia  CUS-1614226872    debit      August            892  \n",
       "4  Australia  CUS-2487424745    debit      August           1013  "
      ]
     },
     "execution_count": 107,
     "metadata": {},
     "output_type": "execute_result"
    }
   ],
   "source": [
    "trans_data.head()"
   ]
  },
  {
   "cell_type": "code",
   "execution_count": 108,
   "metadata": {},
   "outputs": [
    {
     "data": {
      "text/plain": [
       "annual_salary    1.000000\n",
       "balance          0.258148\n",
       "amount           0.056421\n",
       "age             -0.083823\n",
       "Name: annual_salary, dtype: float64"
      ]
     },
     "execution_count": 108,
     "metadata": {},
     "output_type": "execute_result"
    }
   ],
   "source": [
    "trans_corr = trans_data.corr()\n",
    "trans_corr['annual_salary'].sort_values(ascending = False)"
   ]
  },
  {
   "cell_type": "code",
   "execution_count": 67,
   "metadata": {},
   "outputs": [
    {
     "data": {
      "text/plain": [
       "array([[<matplotlib.axes._subplots.AxesSubplot object at 0x0000016B872B1148>,\n",
       "        <matplotlib.axes._subplots.AxesSubplot object at 0x0000016B87536188>,\n",
       "        <matplotlib.axes._subplots.AxesSubplot object at 0x0000016B87236508>,\n",
       "        <matplotlib.axes._subplots.AxesSubplot object at 0x0000016B875A29C8>],\n",
       "       [<matplotlib.axes._subplots.AxesSubplot object at 0x0000016B875C32C8>,\n",
       "        <matplotlib.axes._subplots.AxesSubplot object at 0x0000016B8753EA88>,\n",
       "        <matplotlib.axes._subplots.AxesSubplot object at 0x0000016B87614648>,\n",
       "        <matplotlib.axes._subplots.AxesSubplot object at 0x0000016B875BA408>],\n",
       "       [<matplotlib.axes._subplots.AxesSubplot object at 0x0000016B87609448>,\n",
       "        <matplotlib.axes._subplots.AxesSubplot object at 0x0000016B875FE208>,\n",
       "        <matplotlib.axes._subplots.AxesSubplot object at 0x0000016B87546EC8>,\n",
       "        <matplotlib.axes._subplots.AxesSubplot object at 0x0000016B872CDF88>],\n",
       "       [<matplotlib.axes._subplots.AxesSubplot object at 0x0000016B87503108>,\n",
       "        <matplotlib.axes._subplots.AxesSubplot object at 0x0000016B87150248>,\n",
       "        <matplotlib.axes._subplots.AxesSubplot object at 0x0000016B871C5808>,\n",
       "        <matplotlib.axes._subplots.AxesSubplot object at 0x0000016B874BF448>]],\n",
       "      dtype=object)"
      ]
     },
     "execution_count": 67,
     "metadata": {},
     "output_type": "execute_result"
    },
    {
     "data": {
      "image/png": "[encoded data removed]",
      "text/plain": [
       "<Figure size 1080x720 with 16 Axes>"
      ]
     },
     "metadata": {
      "needs_background": "light"
     },
     "output_type": "display_data"
    }
   ],
   "source": [
    "from pandas.plotting import scatter_matrix\n",
    "scatter_matrix(trans_data, figsize = (15,10))"
   ]
  },
  {
   "cell_type": "code",
   "execution_count": 69,
   "metadata": {},
   "outputs": [
    {
     "data": {
      "text/plain": [
       "<matplotlib.axes._subplots.AxesSubplot at 0x16b873c0ac8>"
      ]
     },
     "execution_count": 69,
     "metadata": {},
     "output_type": "execute_result"
    },
    {
     "data": {
      "text/plain": [
       "<Figure size 864x576 with 0 Axes>"
      ]
     },
     "metadata": {},
     "output_type": "display_data"
    },
    {
     "data": {
      "image/png": "[encoded data removed]",
      "text/plain": [
       "<Figure size 432x288 with 1 Axes>"
      ]
     },
     "metadata": {
      "needs_background": "light"
     },
     "output_type": "display_data"
    }
   ],
   "source": [
    "plt.figure(figsize = (12,8))\n",
    "trans_data.plot(kind = 'scatter', x = 'amount', y = 'annual_salary', alpha = 0.1)"
   ]
  },
  {
   "cell_type": "code",
   "execution_count": 70,
   "metadata": {},
   "outputs": [
    {
     "data": {
      "text/plain": [
       "<matplotlib.axes._subplots.AxesSubplot at 0x16b878bb248>"
      ]
     },
     "execution_count": 70,
     "metadata": {},
     "output_type": "execute_result"
    },
    {
     "data": {
      "image/png": "[encoded data removed]",
      "text/plain": [
       "<Figure size 432x288 with 1 Axes>"
      ]
     },
     "metadata": {
      "needs_background": "light"
     },
     "output_type": "display_data"
    }
   ],
   "source": [
    "trans_data.plot(kind = 'scatter', x = 'age', y = 'annual_salary', alpha = 0.1)"
   ]
  },
  {
   "cell_type": "code",
   "execution_count": 71,
   "metadata": {},
   "outputs": [
    {
     "data": {
      "text/plain": [
       "<matplotlib.axes._subplots.AxesSubplot at 0x16b8790dd48>"
      ]
     },
     "execution_count": 71,
     "metadata": {},
     "output_type": "execute_result"
    },
    {
     "data": {
      "image/png": "[encoded data removed]",
      "text/plain": [
       "<Figure size 432x288 with 1 Axes>"
      ]
     },
     "metadata": {
      "needs_background": "light"
     },
     "output_type": "display_data"
    }
   ],
   "source": [
    "trans_data.plot(kind = 'scatter', x = 'balance', y = 'annual_salary', alpha = 0.1)"
   ]
  },
  {
   "cell_type": "code",
   "execution_count": 73,
   "metadata": {},
   "outputs": [
    {
     "name": "stdout",
     "output_type": "stream",
     "text": [
      "<class 'pandas.core.frame.DataFrame'>\n",
      "RangeIndex: 12043 entries, 0 to 12042\n",
      "Data columns (total 20 columns):\n",
      "status             12043 non-null object\n",
      "account            12043 non-null object\n",
      "currency           12043 non-null object\n",
      "long_lat           12043 non-null object\n",
      "txn_description    12043 non-null object\n",
      "first_name         12043 non-null object\n",
      "balance            12043 non-null float64\n",
      "date               12043 non-null datetime64[ns]\n",
      "gender             12043 non-null object\n",
      "age                12043 non-null int64\n",
      "merchant_suburb    12043 non-null object\n",
      "merchant_state     12043 non-null object\n",
      "extraction         12043 non-null object\n",
      "amount             12043 non-null float64\n",
      "transaction_id     12043 non-null object\n",
      "country            12043 non-null object\n",
      "customer_id        12043 non-null object\n",
      "movement           12043 non-null object\n",
      "trans_month        12043 non-null object\n",
      "annual_salary      12043 non-null int64\n",
      "dtypes: datetime64[ns](1), float64(2), int64(2), object(15)\n",
      "memory usage: 1.8+ MB\n"
     ]
    }
   ],
   "source": [
    "trans_data.info()"
   ]
  },
  {
   "cell_type": "code",
   "execution_count": 109,
   "metadata": {},
   "outputs": [],
   "source": [
    "trans_data.drop(['date'], axis = 1, inplace = True)"
   ]
  },
  {
   "cell_type": "code",
   "execution_count": 124,
   "metadata": {},
   "outputs": [],
   "source": [
    "data_labels = trans_data['annual_salary'].copy()\n",
    "trans_data = trans_data.drop(['annual_salary'], axis = 1)"
   ]
  },
  {
   "cell_type": "code",
   "execution_count": 125,
   "metadata": {},
   "outputs": [],
   "source": [
    "data_cat = trans_data.drop(['balance', 'age', 'amount'], axis = 1) "
   ]
  },
  {
   "cell_type": "code",
   "execution_count": 126,
   "metadata": {},
   "outputs": [],
   "source": [
    "data_num = trans_data[['balance', 'age', 'amount']]"
   ]
  },
  {
   "cell_type": "code",
   "execution_count": 127,
   "metadata": {},
   "outputs": [
    {
     "data": {
      "text/plain": [
       "status             object\n",
       "account            object\n",
       "currency           object\n",
       "long_lat           object\n",
       "txn_description    object\n",
       "first_name         object\n",
       "gender             object\n",
       "merchant_suburb    object\n",
       "merchant_state     object\n",
       "extraction         object\n",
       "transaction_id     object\n",
       "country            object\n",
       "customer_id        object\n",
       "movement           object\n",
       "trans_month        object\n",
       "dtype: object"
      ]
     },
     "execution_count": 127,
     "metadata": {},
     "output_type": "execute_result"
    }
   ],
   "source": [
    "data_cat.dtypes"
   ]
  },
  {
   "cell_type": "code",
   "execution_count": 128,
   "metadata": {},
   "outputs": [
    {
     "data": {
      "text/plain": [
       "balance    float64\n",
       "age          int64\n",
       "amount     float64\n",
       "dtype: object"
      ]
     },
     "execution_count": 128,
     "metadata": {},
     "output_type": "execute_result"
    }
   ],
   "source": [
    "data_num.dtypes"
   ]
  },
  {
   "cell_type": "code",
   "execution_count": 129,
   "metadata": {},
   "outputs": [],
   "source": [
    "num_pipeline = Pipeline([\n",
    "    ('std_scaler', StandardScaler())\n",
    "])\n",
    "\n",
    "data_num_tr = num_pipeline.fit_transform(data_num)"
   ]
  },
  {
   "cell_type": "code",
   "execution_count": 130,
   "metadata": {},
   "outputs": [],
   "source": [
    "num_attribs = list(data_num)\n",
    "cat_attribs = list(data_cat)\n",
    "full_pipeline = ColumnTransformer([\n",
    "    ('num', num_pipeline, num_attribs),\n",
    "    ('cat', OneHotEncoder(), cat_attribs),\n",
    "])"
   ]
  },
  {
   "cell_type": "code",
   "execution_count": 131,
   "metadata": {},
   "outputs": [],
   "source": [
    "data_prepared = full_pipeline.fit_transform(trans_data)"
   ]
  },
  {
   "cell_type": "code",
   "execution_count": 137,
   "metadata": {},
   "outputs": [],
   "source": [
    "train_x, test_x, train_y, test_y = train_test_split(data_prepared, data_labels, test_size = 0.2)"
   ]
  },
  {
   "cell_type": "code",
   "execution_count": 138,
   "metadata": {},
   "outputs": [
    {
     "data": {
      "text/plain": [
       "(9634, 23502)"
      ]
     },
     "execution_count": 138,
     "metadata": {},
     "output_type": "execute_result"
    }
   ],
   "source": [
    "train_x.shape"
   ]
  },
  {
   "cell_type": "code",
   "execution_count": 139,
   "metadata": {},
   "outputs": [
    {
     "data": {
      "text/plain": [
       "(9634,)"
      ]
     },
     "execution_count": 139,
     "metadata": {},
     "output_type": "execute_result"
    }
   ],
   "source": [
    "train_y.shape"
   ]
  },
  {
   "cell_type": "code",
   "execution_count": 140,
   "metadata": {},
   "outputs": [
    {
     "data": {
      "text/plain": [
       "(2409, 23502)"
      ]
     },
     "execution_count": 140,
     "metadata": {},
     "output_type": "execute_result"
    }
   ],
   "source": [
    "test_x.shape"
   ]
  },
  {
   "cell_type": "code",
   "execution_count": 141,
   "metadata": {},
   "outputs": [
    {
     "data": {
      "text/plain": [
       "(2409,)"
      ]
     },
     "execution_count": 141,
     "metadata": {},
     "output_type": "execute_result"
    }
   ],
   "source": [
    "test_y.shape"
   ]
  },
  {
   "cell_type": "markdown",
   "metadata": {},
   "source": [
    "### Linear Regression"
   ]
  },
  {
   "cell_type": "code",
   "execution_count": 177,
   "metadata": {},
   "outputs": [
    {
     "data": {
      "text/plain": [
       "LinearRegression(copy_X=True, fit_intercept=True, n_jobs=None, normalize=False)"
      ]
     },
     "execution_count": 177,
     "metadata": {},
     "output_type": "execute_result"
    }
   ],
   "source": [
    "lin_reg = LinearRegression()\n",
    "lin_reg.fit(train_x, train_y)"
   ]
  },
  {
   "cell_type": "code",
   "execution_count": 178,
   "metadata": {},
   "outputs": [
    {
     "data": {
      "text/plain": [
       "array([1427.86488718, 4893.8720305 , 2611.16653982, ...,  987.55992922,\n",
       "       2314.49530067,  966.12950299])"
      ]
     },
     "execution_count": 178,
     "metadata": {},
     "output_type": "execute_result"
    }
   ],
   "source": [
    "predictions = lin_reg.predict(test_x)\n",
    "predictions"
   ]
  },
  {
   "cell_type": "code",
   "execution_count": 179,
   "metadata": {},
   "outputs": [
    {
     "data": {
      "text/plain": [
       "14.940652093792469"
      ]
     },
     "execution_count": 179,
     "metadata": {},
     "output_type": "execute_result"
    }
   ],
   "source": [
    "lin_mse = mean_squared_error(predictions, test_y)\n",
    "lin_rmse = np.sqrt(lin_mse)\n",
    "lin_rmse"
   ]
  },
  {
   "cell_type": "markdown",
   "metadata": {},
   "source": [
    "### Ridge Regression"
   ]
  },
  {
   "cell_type": "code",
   "execution_count": 180,
   "metadata": {},
   "outputs": [
    {
     "data": {
      "text/plain": [
       "Ridge(alpha=1, copy_X=True, fit_intercept=True, max_iter=None, normalize=False,\n",
       "      random_state=None, solver='auto', tol=0.001)"
      ]
     },
     "execution_count": 180,
     "metadata": {},
     "output_type": "execute_result"
    }
   ],
   "source": [
    "rid_reg = Ridge(alpha = 1)\n",
    "rid_reg.fit(train_x, train_y)"
   ]
  },
  {
   "cell_type": "code",
   "execution_count": 181,
   "metadata": {},
   "outputs": [
    {
     "data": {
      "text/plain": [
       "array([1434.05437884, 4882.65900799, 2627.67397884, ...,  988.63664165,\n",
       "       2319.01546777,  967.15286294])"
      ]
     },
     "execution_count": 181,
     "metadata": {},
     "output_type": "execute_result"
    }
   ],
   "source": [
    "predictions_ridge = rid_reg.predict(test_x)\n",
    "predictions_ridge"
   ]
  },
  {
   "cell_type": "code",
   "execution_count": 182,
   "metadata": {},
   "outputs": [
    {
     "data": {
      "text/plain": [
       "23.446584282663782"
      ]
     },
     "execution_count": 182,
     "metadata": {},
     "output_type": "execute_result"
    }
   ],
   "source": [
    "rid_mse = mean_squared_error(predictions_ridge, test_y)\n",
    "rid_rmse = np.sqrt(rid_mse)\n",
    "rid_rmse"
   ]
  },
  {
   "cell_type": "markdown",
   "metadata": {},
   "source": [
    "### Lasso Regression"
   ]
  },
  {
   "cell_type": "code",
   "execution_count": null,
   "metadata": {},
   "outputs": [],
   "source": [
    "las_reg = Lasso(alpha = 0.1)\n",
    "las_reg.fit(train_x, train_y)"
   ]
  },
  {
   "cell_type": "code",
   "execution_count": null,
   "metadata": {},
   "outputs": [],
   "source": [
    "predictions_las = las_reg.predict(test_x)\n",
    "predictions_las"
   ]
  },
  {
   "cell_type": "code",
   "execution_count": null,
   "metadata": {},
   "outputs": [],
   "source": [
    "las_mse = mean_squared_error(predictions_las, test_y)\n",
    "las_rmse = np.sqrt(las_mse)\n",
    "las_rmse"
   ]
  },
  {
   "cell_type": "code",
   "execution_count": null,
   "metadata": {},
   "outputs": [],
   "source": [
    "some_data = trans_data.iloc[:5]\n",
    "some_labels = data_labels.iloc[:5]\n",
    "tr = full_pipeline.transform(some_data)\n",
    "print('Predictions:', lin_reg.predict(tr))\n",
    "print('Actual:', list(some_labels))"
   ]
  },
  {
   "cell_type": "markdown",
   "metadata": {},
   "source": [
    "### Decision Tree Regressor"
   ]
  },
  {
   "cell_type": "code",
   "execution_count": 173,
   "metadata": {},
   "outputs": [
    {
     "data": {
      "text/plain": [
       "DecisionTreeRegressor(criterion='mse', max_depth=None, max_features=None,\n",
       "                      max_leaf_nodes=None, min_impurity_decrease=0.0,\n",
       "                      min_impurity_split=None, min_samples_leaf=1,\n",
       "                      min_samples_split=2, min_weight_fraction_leaf=0.0,\n",
       "                      presort=False, random_state=None, splitter='best')"
      ]
     },
     "execution_count": 173,
     "metadata": {},
     "output_type": "execute_result"
    }
   ],
   "source": [
    "dec_reg = DecisionTreeRegressor()\n",
    "dec_reg.fit(train_x, train_y)"
   ]
  },
  {
   "cell_type": "code",
   "execution_count": 174,
   "metadata": {},
   "outputs": [
    {
     "data": {
      "text/plain": [
       "array([1408., 4910., 2588., ...,  990., 2306.,  970.])"
      ]
     },
     "execution_count": 174,
     "metadata": {},
     "output_type": "execute_result"
    }
   ],
   "source": [
    "predictions_dec = dec_reg.predict(test_x)\n",
    "predictions_dec"
   ]
  },
  {
   "cell_type": "code",
   "execution_count": 175,
   "metadata": {},
   "outputs": [
    {
     "name": "stdout",
     "output_type": "stream",
     "text": [
      "Predictions: [1013. 1013. 1002.  892. 1013. 2320. 1068. 1068. 2840. 2280.]\n",
      "Actual: [1013, 1013, 1002, 892, 1013, 2320, 1068, 1068, 2840, 2280]\n"
     ]
    }
   ],
   "source": [
    "some_data = trans_data.iloc[:10]\n",
    "some_labels = data_labels.iloc[:10]\n",
    "tr = full_pipeline.transform(some_data)\n",
    "print('Predictions:', dec_reg.predict(tr))\n",
    "print('Actual:', list(some_labels))"
   ]
  },
  {
   "cell_type": "code",
   "execution_count": 176,
   "metadata": {},
   "outputs": [
    {
     "data": {
      "text/plain": [
       "84.1516821221362"
      ]
     },
     "execution_count": 176,
     "metadata": {},
     "output_type": "execute_result"
    }
   ],
   "source": [
    "dec_mse = mean_squared_error(predictions_dec, test_y)\n",
    "dec_rmse = np.sqrt(dec_mse)\n",
    "dec_rmse"
   ]
  }
 ],
 "metadata": {
  "kernelspec": {
   "display_name": "Python 3",
   "language": "python",
   "name": "python3"
  },
  "language_info": {
   "codemirror_mode": {
    "name": "ipython",
    "version": 3
   },
   "file_extension": ".py",
   "mimetype": "text/x-python",
   "name": "python",
   "nbconvert_exporter": "python",
   "pygments_lexer": "ipython3",
   "version": "3.7.4"
  }
 },
 "nbformat": 4,
 "nbformat_minor": 2
}
