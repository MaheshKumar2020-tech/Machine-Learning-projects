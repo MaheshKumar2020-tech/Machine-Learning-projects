{
 "cells": [
  {
   "cell_type": "markdown",
   "metadata": {},
   "source": [
    "### Fashion MNIST using Sequential API\n",
    "\n",
    "Reference: \"Hands - On Machine Learning with Scikit - Learn, Keras, and TensorFlow, 2nd Edition, by Aurelien Geron (O'Reilly)\""
   ]
  },
  {
   "cell_type": "code",
   "execution_count": 1,
   "metadata": {},
   "outputs": [],
   "source": [
    "import tensorflow as tf\n",
    "from tensorflow import keras"
   ]
  },
  {
   "cell_type": "code",
   "execution_count": 2,
   "metadata": {},
   "outputs": [],
   "source": [
    "fashion_mnist = keras.datasets.fashion_mnist"
   ]
  },
  {
   "cell_type": "code",
   "execution_count": 3,
   "metadata": {},
   "outputs": [
    {
     "name": "stdout",
     "output_type": "stream",
     "text": [
      "Downloading data from https://storage.googleapis.com/tensorflow/tf-keras-datasets/train-labels-idx1-ubyte.gz\n",
      "32768/29515 [=================================] - 0s 0us/step\n",
      "Downloading data from https://storage.googleapis.com/tensorflow/tf-keras-datasets/train-images-idx3-ubyte.gz\n",
      "26427392/26421880 [==============================] - 25s 1us/step\n",
      "Downloading data from https://storage.googleapis.com/tensorflow/tf-keras-datasets/t10k-labels-idx1-ubyte.gz\n",
      "8192/5148 [===============================================] - 0s 0us/step\n",
      "Downloading data from https://storage.googleapis.com/tensorflow/tf-keras-datasets/t10k-images-idx3-ubyte.gz\n",
      "4423680/4422102 [==============================] - 4s 1us/step\n"
     ]
    }
   ],
   "source": [
    "(X_train_full, y_train_full), (X_test, y_test) = fashion_mnist.load_data()"
   ]
  },
  {
   "cell_type": "code",
   "execution_count": 4,
   "metadata": {},
   "outputs": [
    {
     "data": {
      "text/plain": [
       "(60000, 28, 28)"
      ]
     },
     "execution_count": 4,
     "metadata": {},
     "output_type": "execute_result"
    }
   ],
   "source": [
    "X_train_full.shape"
   ]
  },
  {
   "cell_type": "code",
   "execution_count": 5,
   "metadata": {},
   "outputs": [
    {
     "data": {
      "text/plain": [
       "(60000,)"
      ]
     },
     "execution_count": 5,
     "metadata": {},
     "output_type": "execute_result"
    }
   ],
   "source": [
    "y_train_full.shape"
   ]
  },
  {
   "cell_type": "code",
   "execution_count": 6,
   "metadata": {},
   "outputs": [
    {
     "data": {
      "text/plain": [
       "(10000, 28, 28)"
      ]
     },
     "execution_count": 6,
     "metadata": {},
     "output_type": "execute_result"
    }
   ],
   "source": [
    "X_test.shape"
   ]
  },
  {
   "cell_type": "code",
   "execution_count": 7,
   "metadata": {},
   "outputs": [
    {
     "data": {
      "text/plain": [
       "(10000,)"
      ]
     },
     "execution_count": 7,
     "metadata": {},
     "output_type": "execute_result"
    }
   ],
   "source": [
    "y_test.shape"
   ]
  },
  {
   "cell_type": "code",
   "execution_count": 8,
   "metadata": {},
   "outputs": [],
   "source": [
    "X_valid, X_train = X_train_full[:10000] / 255.0, X_train_full[10000:] / 255.0\n",
    "y_valid, y_train = y_train_full[:10000], y_train_full[10000:]"
   ]
  },
  {
   "cell_type": "code",
   "execution_count": 11,
   "metadata": {},
   "outputs": [
    {
     "data": {
      "text/plain": [
       "50000"
      ]
     },
     "execution_count": 11,
     "metadata": {},
     "output_type": "execute_result"
    }
   ],
   "source": [
    "len(X_train)"
   ]
  },
  {
   "cell_type": "code",
   "execution_count": 12,
   "metadata": {},
   "outputs": [
    {
     "data": {
      "text/plain": [
       "10000"
      ]
     },
     "execution_count": 12,
     "metadata": {},
     "output_type": "execute_result"
    }
   ],
   "source": [
    "len(X_valid)"
   ]
  },
  {
   "cell_type": "code",
   "execution_count": 13,
   "metadata": {},
   "outputs": [
    {
     "data": {
      "text/plain": [
       "10000"
      ]
     },
     "execution_count": 13,
     "metadata": {},
     "output_type": "execute_result"
    }
   ],
   "source": [
    "len(X_test)"
   ]
  },
  {
   "cell_type": "code",
   "execution_count": 22,
   "metadata": {},
   "outputs": [
    {
     "data": {
      "image/png": "[encoded data removed]",
      "text/plain": [
       "<Figure size 432x288 with 1 Axes>"
      ]
     },
     "metadata": {
      "needs_background": "light"
     },
     "output_type": "display_data"
    }
   ],
   "source": [
    "import matplotlib as mpt\n",
    "import matplotlib.pyplot as plt\n",
    "\n",
    "plt.imshow(X_train[4], cmap=\"gray\")\n",
    "plt.axis(\"on\")\n",
    "plt.show()"
   ]
  },
  {
   "cell_type": "code",
   "execution_count": 20,
   "metadata": {},
   "outputs": [],
   "source": [
    "class_names = [\"T-shirt/top\", \"Trouser\", \"Pullover\", \"Dress\", \"Coat\", \"Sandal\", \"Shirt\", \"Sneaker\", \"Bag\", \"Ankle boot\"]"
   ]
  },
  {
   "cell_type": "code",
   "execution_count": 23,
   "metadata": {},
   "outputs": [
    {
     "data": {
      "text/plain": [
       "'Sneaker'"
      ]
     },
     "execution_count": 23,
     "metadata": {},
     "output_type": "execute_result"
    }
   ],
   "source": [
    "class_names[y_train[4]]"
   ]
  },
  {
   "cell_type": "markdown",
   "metadata": {},
   "source": [
    "### creating the model using Sequential API"
   ]
  },
  {
   "cell_type": "code",
   "execution_count": 25,
   "metadata": {},
   "outputs": [],
   "source": [
    "model = keras.models.Sequential()"
   ]
  },
  {
   "cell_type": "code",
   "execution_count": 83,
   "metadata": {},
   "outputs": [],
   "source": [
    "model.add(keras.layers.Flatten(input_shape = [28,28]))\n",
    "model.add(keras.layers.Dense(600, activation = \"relu\"))\n",
    "model.add(keras.layers.Dense(300, activation = \"relu\"))\n",
    "model.add(keras.layers.Dense(100, activation = \"relu\"))\n",
    "model.add(keras.layers.Dense(10, activation = \"softmax\"))"
   ]
  },
  {
   "cell_type": "code",
   "execution_count": 84,
   "metadata": {},
   "outputs": [
    {
     "name": "stdout",
     "output_type": "stream",
     "text": [
      "Model: \"sequential\"\n",
      "_________________________________________________________________\n",
      "Layer (type)                 Output Shape              Param #   \n",
      "=================================================================\n",
      "flatten (Flatten)            (None, 784)               0         \n",
      "_________________________________________________________________\n",
      "dense (Dense)                (None, 100)               78500     \n",
      "_________________________________________________________________\n",
      "dense_1 (Dense)              (None, 50)                5050      \n",
      "_________________________________________________________________\n",
      "dense_2 (Dense)              (None, 10)                510       \n",
      "_________________________________________________________________\n",
      "flatten_1 (Flatten)          (None, 10)                0         \n",
      "_________________________________________________________________\n",
      "dense_3 (Dense)              (None, 500)               5500      \n",
      "_________________________________________________________________\n",
      "dense_4 (Dense)              (None, 100)               50100     \n",
      "_________________________________________________________________\n",
      "dense_5 (Dense)              (None, 10)                1010      \n",
      "_________________________________________________________________\n",
      "flatten_2 (Flatten)          (None, 10)                0         \n",
      "_________________________________________________________________\n",
      "dense_6 (Dense)              (None, 600)               6600      \n",
      "_________________________________________________________________\n",
      "dense_7 (Dense)              (None, 300)               180300    \n",
      "_________________________________________________________________\n",
      "dense_8 (Dense)              (None, 100)               30100     \n",
      "_________________________________________________________________\n",
      "dense_9 (Dense)              (None, 10)                1010      \n",
      "=================================================================\n",
      "Total params: 140,670\n",
      "Trainable params: 140,670\n",
      "Non-trainable params: 0\n",
      "_________________________________________________________________\n"
     ]
    }
   ],
   "source": [
    "model.summary()"
   ]
  },
  {
   "cell_type": "code",
   "execution_count": 85,
   "metadata": {},
   "outputs": [
    {
     "data": {
      "text/plain": [
       "[<tensorflow.python.keras.layers.core.Flatten at 0x1ca78e13d88>,\n",
       " <tensorflow.python.keras.layers.core.Dense at 0x1ca78e13d48>,\n",
       " <tensorflow.python.keras.layers.core.Dense at 0x1ca78e59e88>,\n",
       " <tensorflow.python.keras.layers.core.Dense at 0x1ca78e1b948>,\n",
       " <tensorflow.python.keras.layers.core.Flatten at 0x1ca79e00688>,\n",
       " <tensorflow.python.keras.layers.core.Dense at 0x1ca795fa748>,\n",
       " <tensorflow.python.keras.layers.core.Dense at 0x1ca7950c388>,\n",
       " <tensorflow.python.keras.layers.core.Dense at 0x1ca793a6348>,\n",
       " <tensorflow.python.keras.layers.core.Flatten at 0x1ca79e50648>,\n",
       " <tensorflow.python.keras.layers.core.Dense at 0x1ca79e50608>,\n",
       " <tensorflow.python.keras.layers.core.Dense at 0x1ca79e36e88>,\n",
       " <tensorflow.python.keras.layers.core.Dense at 0x1ca78ba4f48>,\n",
       " <tensorflow.python.keras.layers.core.Dense at 0x1ca79e4c6c8>]"
      ]
     },
     "execution_count": 85,
     "metadata": {},
     "output_type": "execute_result"
    }
   ],
   "source": [
    "model.layers"
   ]
  },
  {
   "cell_type": "code",
   "execution_count": 86,
   "metadata": {},
   "outputs": [
    {
     "data": {
      "text/plain": [
       "<tensorflow.python.keras.layers.core.Flatten at 0x1ca78e13d88>"
      ]
     },
     "execution_count": 86,
     "metadata": {},
     "output_type": "execute_result"
    }
   ],
   "source": [
    "input_layer = model.layers[0]\n",
    "input_layer"
   ]
  },
  {
   "cell_type": "code",
   "execution_count": 87,
   "metadata": {},
   "outputs": [
    {
     "data": {
      "text/plain": [
       "<tensorflow.python.keras.layers.core.Dense at 0x1ca78e13d48>"
      ]
     },
     "execution_count": 87,
     "metadata": {},
     "output_type": "execute_result"
    }
   ],
   "source": [
    "hidden_layer_1 = model.layers[1]\n",
    "hidden_layer_1"
   ]
  },
  {
   "cell_type": "code",
   "execution_count": 88,
   "metadata": {},
   "outputs": [
    {
     "data": {
      "text/plain": [
       "<tensorflow.python.keras.layers.core.Dense at 0x1ca78e59e88>"
      ]
     },
     "execution_count": 88,
     "metadata": {},
     "output_type": "execute_result"
    }
   ],
   "source": [
    "hidden_layer_2 = model.layers[2]\n",
    "hidden_layer_2"
   ]
  },
  {
   "cell_type": "code",
   "execution_count": 89,
   "metadata": {},
   "outputs": [
    {
     "data": {
      "text/plain": [
       "<tensorflow.python.keras.layers.core.Dense at 0x1ca78e1b948>"
      ]
     },
     "execution_count": 89,
     "metadata": {},
     "output_type": "execute_result"
    }
   ],
   "source": [
    "hidden_layer_3 = model.layers[3]\n",
    "hidden_layer_3"
   ]
  },
  {
   "cell_type": "code",
   "execution_count": 90,
   "metadata": {},
   "outputs": [
    {
     "data": {
      "text/plain": [
       "<tensorflow.python.keras.layers.core.Flatten at 0x1ca79e00688>"
      ]
     },
     "execution_count": 90,
     "metadata": {},
     "output_type": "execute_result"
    }
   ],
   "source": [
    "output_layer = model.layers[4]\n",
    "output_layer"
   ]
  },
  {
   "cell_type": "code",
   "execution_count": 91,
   "metadata": {},
   "outputs": [
    {
     "data": {
      "text/plain": [
       "[]"
      ]
     },
     "execution_count": 91,
     "metadata": {},
     "output_type": "execute_result"
    }
   ],
   "source": [
    "weights_input = input_layer.get_weights()\n",
    "weights_input"
   ]
  },
  {
   "cell_type": "code",
   "execution_count": 92,
   "metadata": {},
   "outputs": [
    {
     "data": {
      "text/plain": [
       "[]"
      ]
     },
     "execution_count": 92,
     "metadata": {},
     "output_type": "execute_result"
    }
   ],
   "source": [
    "bias_input = input_layer.get_weights()\n",
    "bias_input"
   ]
  },
  {
   "cell_type": "code",
   "execution_count": 93,
   "metadata": {},
   "outputs": [],
   "source": [
    "weights_layer1, biases_layer1 = hidden_layer_1.get_weights()"
   ]
  },
  {
   "cell_type": "code",
   "execution_count": 94,
   "metadata": {},
   "outputs": [
    {
     "data": {
      "text/plain": [
       "array([[ 0.01776665, -0.06098685,  0.03048531, ...,  0.02469139,\n",
       "         0.06642918,  0.03816877],\n",
       "       [-0.06077295,  0.00995206,  0.05294562, ...,  0.03046264,\n",
       "         0.05876214,  0.06171304],\n",
       "       [ 0.04910005, -0.05431258, -0.0445717 , ...,  0.05728501,\n",
       "        -0.03591509, -0.04160579],\n",
       "       ...,\n",
       "       [-0.06138414, -0.00423771, -0.06774247, ..., -0.05514324,\n",
       "         0.06268891, -0.00362117],\n",
       "       [ 0.03569399,  0.01764326, -0.03013189, ...,  0.01113051,\n",
       "        -0.01049856, -0.05149968],\n",
       "       [ 0.02720098, -0.05045904, -0.01803339, ..., -0.03745531,\n",
       "         0.01923675,  0.04767513]], dtype=float32)"
      ]
     },
     "execution_count": 94,
     "metadata": {},
     "output_type": "execute_result"
    }
   ],
   "source": [
    "weights_layer1"
   ]
  },
  {
   "cell_type": "code",
   "execution_count": 95,
   "metadata": {},
   "outputs": [
    {
     "data": {
      "text/plain": [
       "array([ 6.97115883e-02, -2.13513464e-01,  6.35908470e-02,  4.19108719e-02,\n",
       "        1.95054978e-01, -3.61843742e-02, -1.08485289e-01,  9.81455594e-02,\n",
       "       -9.61960927e-02,  5.64880595e-02, -2.17724629e-02,  1.32065132e-01,\n",
       "        9.88806263e-02,  2.41719354e-02,  8.97225812e-02, -1.38147017e-02,\n",
       "       -4.44132872e-02, -1.60190344e-01,  2.81051874e-01,  1.78687990e-01,\n",
       "        1.21904388e-01, -4.11788896e-02,  2.04221934e-01,  1.56973064e-01,\n",
       "       -9.55755711e-02,  6.44675717e-02,  2.09381491e-01,  1.40401721e-01,\n",
       "       -8.26367289e-02, -6.14804626e-02,  2.30886832e-01,  3.78150642e-02,\n",
       "        5.94701655e-02, -7.09605739e-02, -1.24907373e-02, -2.96852272e-02,\n",
       "        3.61361317e-02,  3.70082259e-01, -8.09706841e-03,  5.53977042e-02,\n",
       "        2.07567550e-02,  5.03361672e-02,  1.25807986e-01,  4.54385690e-02,\n",
       "       -1.30253565e-02,  3.00504826e-02,  4.08599637e-02,  2.55650014e-01,\n",
       "       -3.90696824e-02, -1.39137842e-02,  6.02937043e-02,  5.41960895e-02,\n",
       "        8.37681070e-02,  1.32240608e-01, -3.67965288e-02,  8.06168467e-02,\n",
       "        1.05242893e-01,  7.26146176e-02,  1.25681490e-01,  6.66974038e-02,\n",
       "        3.72160524e-01,  1.88011080e-02,  3.78342986e-01,  1.94354519e-01,\n",
       "        7.79839829e-02,  7.62808844e-02,  1.66898504e-01,  2.59265631e-01,\n",
       "        2.28465229e-01,  1.45972282e-01,  3.01037449e-02,  5.29612899e-02,\n",
       "       -1.34211415e-02, -1.10769449e-02,  1.39025778e-01, -1.37603115e-02,\n",
       "        1.64943904e-01, -2.86317635e-02, -1.74181283e-01,  4.43534143e-02,\n",
       "        2.63031069e-02,  3.13508958e-02, -4.48326059e-02, -1.34890407e-01,\n",
       "       -1.40713871e-01,  1.65522890e-03,  8.50727037e-02,  2.43840004e-05,\n",
       "        3.07444245e-01,  1.26668975e-01,  1.98002607e-02,  2.37998649e-01,\n",
       "       -2.13704482e-02,  4.67013270e-01,  7.98469260e-02,  1.90542992e-02,\n",
       "       -1.68875098e-01,  1.08270183e-01,  1.43183619e-01,  2.27595508e-01],\n",
       "      dtype=float32)"
      ]
     },
     "execution_count": 95,
     "metadata": {},
     "output_type": "execute_result"
    }
   ],
   "source": [
    "biases_layer1"
   ]
  },
  {
   "cell_type": "code",
   "execution_count": 96,
   "metadata": {},
   "outputs": [],
   "source": [
    "weights_layer2, biases_layer2 = hidden_layer_2.get_weights()"
   ]
  },
  {
   "cell_type": "code",
   "execution_count": 97,
   "metadata": {},
   "outputs": [
    {
     "data": {
      "text/plain": [
       "array([[-0.07038245,  0.0024136 ,  0.08719596, ..., -0.21393667,\n",
       "        -0.17799294, -0.16902661],\n",
       "       [ 0.02733487, -0.08946812, -0.11275332, ..., -0.09233862,\n",
       "        -0.17168896, -0.19992617],\n",
       "       [-0.17365202,  0.25097677,  0.00633896, ..., -0.11819766,\n",
       "         0.04539081, -0.09019215],\n",
       "       ...,\n",
       "       [-0.02908434,  0.2684412 , -0.06883541, ...,  0.05630862,\n",
       "         0.1424529 ,  0.13133907],\n",
       "       [-0.09887013, -0.20301116, -0.03397986, ...,  0.1737813 ,\n",
       "        -0.04371184,  0.04576874],\n",
       "       [ 0.22723807, -0.00301476,  0.2294904 , ..., -0.09189653,\n",
       "        -0.04178578,  0.0164403 ]], dtype=float32)"
      ]
     },
     "execution_count": 97,
     "metadata": {},
     "output_type": "execute_result"
    }
   ],
   "source": [
    "weights_layer2"
   ]
  },
  {
   "cell_type": "code",
   "execution_count": 98,
   "metadata": {},
   "outputs": [
    {
     "data": {
      "text/plain": [
       "array([ 0.15429229,  0.22926477,  0.09240537,  0.09218106, -0.01268112,\n",
       "       -0.01999357,  0.15768991,  0.11606165, -0.14904848,  0.10128864,\n",
       "        0.07037478,  0.16489348, -0.00269283,  0.01699272, -0.06912815,\n",
       "        0.08923144,  0.16168185,  0.2164563 ,  0.10262299, -0.03104299,\n",
       "        0.13757163,  0.11093475, -0.01156671,  0.10769692,  0.13639177,\n",
       "        0.07281421,  0.10847069,  0.149239  , -0.05648931,  0.13319951,\n",
       "        0.12968265, -0.03813085, -0.0188042 ,  0.12535772,  0.0289576 ,\n",
       "        0.10247541, -0.08583508,  0.11552505,  0.06596213,  0.09402034,\n",
       "       -0.10002901, -0.13079381,  0.04759311,  0.25392884, -0.01428537,\n",
       "        0.01345045,  0.15868534,  0.17771755, -0.00091854,  0.24062334],\n",
       "      dtype=float32)"
      ]
     },
     "execution_count": 98,
     "metadata": {},
     "output_type": "execute_result"
    }
   ],
   "source": [
    "biases_layer2"
   ]
  },
  {
   "cell_type": "code",
   "execution_count": 99,
   "metadata": {},
   "outputs": [],
   "source": [
    "weights_layer3, biases_layer3 = hidden_layer_3.get_weights()"
   ]
  },
  {
   "cell_type": "code",
   "execution_count": 100,
   "metadata": {},
   "outputs": [
    {
     "data": {
      "text/plain": [
       "array([[-2.49978095e-01, -6.25245199e-02,  8.42114091e-02,\n",
       "        -3.06909263e-01,  7.89068416e-02,  1.94325507e-01,\n",
       "        -2.43232012e-01,  4.93001431e-01, -5.92420757e-01,\n",
       "         4.38021004e-01],\n",
       "       [ 3.99672210e-01,  4.44870666e-02,  5.35034835e-01,\n",
       "         3.17582279e-01, -5.93061328e-01,  3.23786922e-02,\n",
       "        -2.10686103e-01,  7.51843452e-02,  4.24247652e-01,\n",
       "         8.47192630e-02],\n",
       "       [ 6.06887460e-01,  2.85041094e-01, -9.46882367e-01,\n",
       "        -2.13860735e-01,  1.32864611e-02,  6.28349185e-01,\n",
       "         2.15324312e-01, -3.22186410e-01, -1.62865072e-01,\n",
       "        -6.63324952e-01],\n",
       "       [ 3.30847472e-01, -1.38971522e-01,  1.48901761e-01,\n",
       "        -8.08827803e-02, -2.15957925e-01, -3.45151007e-01,\n",
       "        -3.48238915e-01,  4.40242857e-01,  7.15018392e-01,\n",
       "        -3.85177672e-01],\n",
       "       [-1.51073327e-02, -2.31529519e-01, -4.24097180e-02,\n",
       "        -6.52755857e-01,  1.40598133e-01,  2.52453417e-01,\n",
       "         1.18929781e-01,  4.05979842e-01,  2.84985453e-03,\n",
       "         4.66886133e-01],\n",
       "       [-3.15737218e-01,  6.23510964e-02, -4.63369116e-03,\n",
       "        -3.22377712e-01, -2.73336738e-01,  2.58087754e-01,\n",
       "         9.03230980e-02, -2.45310813e-01,  2.83432871e-01,\n",
       "        -5.95258288e-02],\n",
       "       [ 2.07578063e-01, -4.70677644e-01,  1.26646878e-02,\n",
       "        -3.73754293e-01, -9.06674117e-02,  1.44668296e-01,\n",
       "         6.83368564e-01, -4.13253218e-01, -1.71321988e-01,\n",
       "        -3.39985192e-01],\n",
       "       [-3.45026016e-01,  5.09738505e-01,  2.70357639e-01,\n",
       "        -2.93933243e-01,  6.90001026e-02,  1.65828228e-01,\n",
       "        -5.97479165e-01,  1.92817450e-01,  3.64287883e-01,\n",
       "        -5.22472024e-01],\n",
       "       [ 1.66940883e-01,  3.41384858e-01, -2.29043454e-01,\n",
       "        -4.87451822e-01,  7.77918696e-02,  2.20143154e-01,\n",
       "         8.62049013e-02,  2.33007997e-01, -2.16949493e-01,\n",
       "         7.91179612e-02],\n",
       "       [ 2.31352985e-01, -1.30929388e-02,  5.12853503e-01,\n",
       "         3.57255220e-01, -4.75856304e-01, -9.15554225e-01,\n",
       "         1.26387775e-01, -8.42722580e-02,  4.07589257e-01,\n",
       "         1.45232044e-02],\n",
       "       [ 6.94874972e-02, -2.10456088e-01, -2.44016126e-02,\n",
       "         2.50153661e-01, -3.25550556e-01,  1.94701567e-01,\n",
       "         2.50766277e-01,  1.03666112e-01, -1.09478831e-01,\n",
       "        -2.71367252e-01],\n",
       "       [ 3.62343580e-01, -1.28948586e-02, -2.74137884e-01,\n",
       "         4.81207848e-01, -4.37283479e-02,  2.09677026e-01,\n",
       "        -4.57368195e-02,  2.54578609e-02, -1.21951342e-01,\n",
       "         1.45847544e-01],\n",
       "       [-8.72156322e-02,  4.43105102e-02,  1.27045348e-01,\n",
       "        -7.05830753e-02, -2.29912326e-01, -1.74606174e-01,\n",
       "        -2.13503540e-02, -3.14243972e-01, -1.07782163e-01,\n",
       "         4.66205887e-02],\n",
       "       [-1.26852766e-01,  8.37117955e-02,  4.61869985e-02,\n",
       "        -2.69203603e-01,  1.32354066e-01, -2.19130471e-01,\n",
       "        -3.37228388e-01, -2.09833115e-01,  7.80834779e-02,\n",
       "        -1.67335737e-02],\n",
       "       [-1.91188991e-01, -3.47673185e-02,  2.92554796e-01,\n",
       "        -2.23307222e-01,  5.51178038e-01, -7.34756768e-01,\n",
       "         2.42549833e-02, -5.00653505e-01,  3.04457814e-01,\n",
       "        -4.03760731e-01],\n",
       "       [ 1.11889876e-01, -6.55461669e-01,  4.38443035e-01,\n",
       "         2.34068707e-01,  6.26792386e-02,  3.01058382e-01,\n",
       "         4.55558509e-01, -3.52495223e-01,  8.69131237e-02,\n",
       "        -3.12695473e-01],\n",
       "       [ 1.30762532e-01, -4.32795435e-01, -2.74483293e-01,\n",
       "         4.44623888e-01,  3.75938192e-02,  4.79137421e-01,\n",
       "        -3.41304779e-01, -3.80043417e-01, -2.38756344e-01,\n",
       "        -2.56304443e-01],\n",
       "       [-2.23665580e-01,  1.84189215e-01, -4.21137244e-01,\n",
       "         5.92353404e-01, -2.29425468e-02, -5.03011048e-01,\n",
       "         3.70960712e-01,  1.64364010e-01, -6.82539523e-01,\n",
       "        -4.22427744e-01],\n",
       "       [-6.25317752e-01,  8.48529935e-02, -9.42255631e-02,\n",
       "         2.63594408e-02,  1.11564912e-01, -1.41871974e-01,\n",
       "        -5.09834051e-01,  1.94694161e-01,  1.06607258e-01,\n",
       "        -2.05153525e-01],\n",
       "       [-2.19370797e-01,  3.31856698e-01, -5.25690854e-01,\n",
       "         9.53755751e-02, -3.62658381e-01, -3.10102135e-01,\n",
       "         5.07942021e-01,  2.20704809e-01, -3.27767402e-01,\n",
       "        -3.00418586e-01],\n",
       "       [ 3.13801467e-01, -1.74604952e-01, -1.44634217e-01,\n",
       "        -8.27040896e-02, -9.42220464e-02, -7.79321492e-02,\n",
       "         3.74887794e-01,  4.06617999e-01, -9.66825038e-02,\n",
       "         1.47377346e-02],\n",
       "       [ 2.43807033e-01, -9.99027938e-02,  3.85095291e-02,\n",
       "        -1.00670323e-01, -1.51218444e-01, -8.43294621e-01,\n",
       "         1.81326531e-02,  6.99096203e-01, -3.24516594e-01,\n",
       "         7.87749410e-01],\n",
       "       [ 4.38185006e-01,  1.66954264e-01,  5.03652990e-01,\n",
       "         3.25662166e-01,  6.03247643e-01, -1.32378423e+00,\n",
       "         7.77382329e-02, -7.04008579e-01, -2.81784326e-01,\n",
       "        -4.39123124e-01],\n",
       "       [ 4.41636324e-01, -6.59620881e-01,  1.17885083e-01,\n",
       "        -3.39974612e-02,  3.72284949e-01,  5.29432595e-01,\n",
       "         5.63980222e-01, -3.67356271e-01, -1.01608858e-01,\n",
       "        -7.80618966e-01],\n",
       "       [-3.37171406e-01, -4.08582270e-01,  2.90879011e-01,\n",
       "         2.21123416e-02,  2.02065051e-01,  1.14096440e-01,\n",
       "        -3.17858458e-01,  3.97094190e-01, -1.24795526e-01,\n",
       "        -2.84445316e-01],\n",
       "       [ 8.11133608e-02, -2.13384286e-01, -6.12434983e-01,\n",
       "        -1.19569063e-01,  3.21923763e-01,  2.65758067e-01,\n",
       "        -4.63231206e-01,  5.17799616e-01,  3.44719529e-01,\n",
       "         1.88421592e-01],\n",
       "       [-3.85436356e-01,  5.65110505e-01, -1.31150723e-01,\n",
       "         1.94075897e-01, -2.96946764e-02,  5.93472004e-01,\n",
       "        -4.65468585e-01,  1.16354644e-01, -4.01072532e-01,\n",
       "         4.56009567e-01],\n",
       "       [ 5.24111807e-01, -4.21845168e-01, -1.80739000e-01,\n",
       "         5.04992008e-02, -4.20500487e-01,  6.91854432e-02,\n",
       "         5.49719892e-02,  5.71567342e-02,  3.82848233e-01,\n",
       "        -9.11237299e-02],\n",
       "       [-6.49684519e-02,  6.86316133e-01, -4.65025187e-01,\n",
       "        -4.22040969e-02, -1.98705882e-01,  4.24594760e-01,\n",
       "         1.36823788e-01, -4.85914230e-01,  6.11385167e-01,\n",
       "        -2.84638464e-01],\n",
       "       [-3.09928954e-01, -2.74119675e-01, -4.94859457e-01,\n",
       "         2.25181028e-01,  8.14274549e-02, -5.40209353e-01,\n",
       "         2.99665153e-01,  3.35790873e-01,  9.29173112e-01,\n",
       "         2.42344052e-01],\n",
       "       [-1.58294529e-01, -5.49396053e-02,  5.06832480e-01,\n",
       "        -4.61697757e-01, -2.43541092e-01,  5.72013080e-01,\n",
       "         6.70280531e-02, -1.65817976e-01, -4.68854189e-01,\n",
       "        -2.43694887e-01],\n",
       "       [ 2.45265111e-01,  3.25155966e-02,  3.67181003e-01,\n",
       "        -3.87121625e-02, -2.98235655e-01,  3.59301001e-01,\n",
       "         9.54575278e-03, -2.26764411e-01, -5.69352150e-01,\n",
       "         4.11774963e-01],\n",
       "       [ 1.68792717e-02, -5.95363453e-02, -1.93883225e-01,\n",
       "        -1.05326198e-01,  1.32973596e-01, -1.13228142e-01,\n",
       "        -2.98119098e-01, -3.03541929e-01,  2.45743990e-01,\n",
       "        -8.92121866e-02],\n",
       "       [-4.48260993e-01, -1.18538126e-01, -1.23692416e-01,\n",
       "         2.33968452e-01,  1.49390966e-01,  1.87388241e-01,\n",
       "        -4.98846412e-01,  1.29071139e-02,  4.60954189e-01,\n",
       "         3.76359731e-01],\n",
       "       [ 3.77792597e-01, -1.59387380e-01,  1.49287239e-01,\n",
       "        -8.85372385e-02,  3.02635990e-02, -9.86814052e-02,\n",
       "        -2.65306085e-01, -3.13122660e-01,  1.75014615e-01,\n",
       "         1.79044709e-01],\n",
       "       [-5.28464615e-01, -3.11346591e-01, -7.13744760e-02,\n",
       "         4.63427335e-01, -1.94878504e-01,  4.23973799e-01,\n",
       "        -4.01317775e-01,  3.74317825e-01, -2.78919071e-01,\n",
       "        -2.45211810e-01],\n",
       "       [ 3.34688753e-01,  5.06707191e-01,  1.57298744e-01,\n",
       "        -2.96574473e-01,  2.49235407e-01, -3.53592694e-01,\n",
       "         4.58995730e-01, -4.72219676e-01, -4.60124046e-01,\n",
       "         2.23745286e-01],\n",
       "       [-1.48172826e-01, -4.37768400e-02, -3.28304589e-01,\n",
       "         3.84924531e-01, -4.68104213e-01,  3.94667149e-01,\n",
       "        -6.53425515e-01, -2.82311849e-02,  3.19304764e-01,\n",
       "         6.92735255e-01],\n",
       "       [-3.33679706e-01,  3.49775612e-01,  1.74944431e-01,\n",
       "         4.24404085e-01,  8.83164406e-02,  2.64505565e-01,\n",
       "         3.51330489e-01, -1.83228120e-01, -6.73216939e-01,\n",
       "        -3.32152635e-01],\n",
       "       [-1.00420378e-01, -4.26735818e-01,  1.09577991e-01,\n",
       "        -5.56681156e-01,  2.02795073e-01,  4.63949442e-01,\n",
       "         1.66728601e-01, -1.80751607e-02, -2.09212136e-02,\n",
       "         3.10529023e-01],\n",
       "       [-3.09868336e-01,  8.52557659e-01, -1.78821519e-01,\n",
       "        -3.46784115e-01, -9.47675258e-02,  1.65846154e-01,\n",
       "         1.25723262e-03,  1.05607867e-01,  4.90117855e-02,\n",
       "        -1.57723963e-01],\n",
       "       [ 4.57386494e-01,  3.39189559e-01,  7.62864277e-02,\n",
       "        -8.38330090e-02,  2.30061263e-01,  3.01598907e-01,\n",
       "        -4.54673052e-01, -1.53125718e-01, -4.13392007e-01,\n",
       "         1.87343761e-01],\n",
       "       [ 2.30450615e-01,  1.90294176e-01,  2.17495680e-01,\n",
       "         3.03230584e-01,  2.80714899e-01, -1.59181729e-01,\n",
       "        -2.82774866e-01, -5.08843720e-01, -1.09132035e-02,\n",
       "        -8.66173506e-02],\n",
       "       [-2.49365032e-01,  2.24266976e-01,  4.88087952e-01,\n",
       "        -2.39216000e-01,  2.56633103e-01,  8.67482461e-03,\n",
       "         3.61542106e-01,  4.20578718e-01, -4.96893883e-01,\n",
       "        -4.24554229e-01],\n",
       "       [-2.41241246e-01,  3.77478033e-01, -3.36194155e-03,\n",
       "        -4.85388398e-01,  4.14101362e-01, -6.18431389e-01,\n",
       "        -5.17680049e-01,  3.62936944e-01,  5.00236213e-01,\n",
       "         3.14788893e-02],\n",
       "       [-1.77436501e-01,  1.48141906e-01,  1.32479683e-01,\n",
       "        -1.37264445e-01,  1.49606645e-01, -2.25596845e-01,\n",
       "        -2.83136666e-01, -1.72094360e-01, -2.10370734e-01,\n",
       "        -1.84255078e-01],\n",
       "       [-2.42660210e-01, -1.26412258e-01,  2.14137696e-02,\n",
       "        -2.55472809e-02, -3.33837450e-01,  4.35546190e-01,\n",
       "         3.34239900e-01,  1.10699281e-01,  1.28843442e-01,\n",
       "        -2.79330969e-01],\n",
       "       [-3.46059740e-01,  1.67541683e-01,  1.59692675e-01,\n",
       "        -3.18729520e-01,  2.63006330e-01, -2.07988083e-01,\n",
       "         2.53397346e-01,  4.02407981e-02,  3.24237108e-01,\n",
       "        -3.60067874e-01],\n",
       "       [ 2.14696527e-01, -1.12747103e-01,  2.90128618e-01,\n",
       "         1.39817655e-01, -2.87210792e-01, -2.31529266e-01,\n",
       "        -2.22755298e-02,  6.98091760e-02,  1.80909574e-01,\n",
       "         2.73909837e-01],\n",
       "       [ 6.67704046e-01,  4.29197541e-03,  4.88197833e-01,\n",
       "        -1.39866248e-01, -5.87815344e-01,  1.24261715e-01,\n",
       "        -5.12973547e-01, -2.57325381e-01, -3.88721786e-02,\n",
       "         8.75954852e-02]], dtype=float32)"
      ]
     },
     "execution_count": 100,
     "metadata": {},
     "output_type": "execute_result"
    }
   ],
   "source": [
    "weights_layer3"
   ]
  },
  {
   "cell_type": "code",
   "execution_count": 101,
   "metadata": {},
   "outputs": [
    {
     "data": {
      "text/plain": [
       "array([ 0.04419242, -0.06585677, -0.04764565,  0.215318  , -0.21447752,\n",
       "        0.16651215, -0.00801651,  0.14304988, -0.05465915, -0.17841545],\n",
       "      dtype=float32)"
      ]
     },
     "execution_count": 101,
     "metadata": {},
     "output_type": "execute_result"
    }
   ],
   "source": [
    "biases_layer3"
   ]
  },
  {
   "cell_type": "code",
   "execution_count": 103,
   "metadata": {},
   "outputs": [],
   "source": [
    "weights_output = output_layer.get_weights()"
   ]
  },
  {
   "cell_type": "code",
   "execution_count": 77,
   "metadata": {},
   "outputs": [
    {
     "data": {
      "text/plain": [
       "array([[-0.22608106, -0.09121158,  0.10051202, -0.2950017 ,  0.09293658,\n",
       "         0.16188964, -0.22856839,  0.44030866, -0.550538  ,  0.42910522],\n",
       "       [ 0.52315587,  0.09716856,  0.49234766,  0.2245351 , -0.524739  ,\n",
       "         0.02917081, -0.21496728,  0.06147822,  0.3252901 ,  0.09611505],\n",
       "       [ 0.70932704,  0.28976277, -0.81507826, -0.3089994 , -0.058751  ,\n",
       "         0.65422636,  0.05290799, -0.30525085, -0.13521603, -0.64314944],\n",
       "       [ 0.31082863, -0.12543298, -0.00981182, -0.08429975, -0.12066139,\n",
       "        -0.36299276, -0.22875203,  0.56773025,  0.68565017, -0.5116325 ],\n",
       "       [ 0.03425667, -0.25472215, -0.08305129, -0.61989266,  0.04659281,\n",
       "         0.24715698,  0.18756554,  0.38223547,  0.02332465,  0.48242736],\n",
       "       [-0.2896599 ,  0.04655319, -0.07169013, -0.26603663, -0.23674527,\n",
       "         0.2704999 ,  0.07181945, -0.22545199,  0.23699142, -0.06301271],\n",
       "       [ 0.24962363, -0.45453933, -0.12449898, -0.35904258, -0.18864894,\n",
       "         0.1747539 ,  0.77945364, -0.39240983, -0.16635023, -0.32972038],\n",
       "       [-0.37317124,  0.56964463,  0.39535075, -0.27443948, -0.07501691,\n",
       "         0.1464426 , -0.56995654,  0.28188857,  0.3338643 , -0.62147915],\n",
       "       [ 0.16971964,  0.28873795, -0.20285428, -0.51819444, -0.01254069,\n",
       "         0.2253766 ,  0.13588999,  0.24541038, -0.15626143,  0.0958629 ],\n",
       "       [ 0.24601781,  0.02158177,  0.54042816,  0.34122032, -0.5758945 ,\n",
       "        -0.88715273,  0.08873913, -0.06586954,  0.42096603,  0.03114604],\n",
       "       [ 0.04879982, -0.21178249, -0.03241091,  0.25840154, -0.29911166,\n",
       "         0.1939339 ,  0.25174046,  0.08090212, -0.10153642, -0.2615655 ],\n",
       "       [ 0.32570705, -0.02440806, -0.2707068 ,  0.5433277 , -0.10593946,\n",
       "         0.20890625, -0.03809563,  0.04151143, -0.0977295 ,  0.14351171],\n",
       "       [-0.08722762,  0.0437948 ,  0.12799104, -0.07025625, -0.2303648 ,\n",
       "        -0.17458156, -0.02167309, -0.31423977, -0.10777622,  0.04661315],\n",
       "       [-0.12537584,  0.05749005,  0.02966017, -0.23486249,  0.10657208,\n",
       "        -0.21889612, -0.30511814, -0.20753354,  0.07670962, -0.01731691],\n",
       "       [-0.28240672,  0.01745542,  0.2871505 , -0.23268549,  0.5414592 ,\n",
       "        -0.66917324, -0.0227859 , -0.466497  ,  0.32391918, -0.41243014],\n",
       "       [ 0.05387563, -0.63956183,  0.41386637,  0.24741706, -0.01944055,\n",
       "         0.35201487,  0.54441434, -0.34563738,  0.06472522, -0.30172428],\n",
       "       [ 0.04397617, -0.43577257, -0.2654674 ,  0.596454  , -0.08541431,\n",
       "         0.49014494, -0.3205968 , -0.39598802, -0.20979412, -0.24910843],\n",
       "       [-0.34793448,  0.10301092, -0.46991488,  0.6455206 , -0.08655978,\n",
       "        -0.45546275,  0.5118989 ,  0.08948481, -0.56333715, -0.39055574],\n",
       "       [-0.5667922 ,  0.08968433, -0.02585145, -0.09456495,  0.07956412,\n",
       "        -0.15571705, -0.4338131 ,  0.26020235,  0.07831927, -0.2833575 ],\n",
       "       [-0.3164722 ,  0.35487399, -0.5443124 ,  0.07044003, -0.37400672,\n",
       "        -0.2642044 ,  0.5462467 ,  0.20304176, -0.26621103, -0.29952112],\n",
       "       [ 0.28956634, -0.19934373, -0.21378285, -0.07859566, -0.14343469,\n",
       "        -0.03496294,  0.45954892,  0.3982107 , -0.02163817, -0.0163067 ],\n",
       "       [ 0.25145683, -0.08963361,  0.04993432, -0.10216397, -0.14648345,\n",
       "        -0.8670722 ,  0.01775901,  0.71389425, -0.33653262,  0.7764762 ],\n",
       "       [ 0.46007812,  0.16001792,  0.49760616,  0.206547  ,  0.64549077,\n",
       "        -1.1581459 , -0.05218497, -0.6488521 , -0.28186125, -0.46196124],\n",
       "       [ 0.3859444 , -0.6129484 ,  0.08111491, -0.13655606,  0.38051745,\n",
       "         0.60213685,  0.6531079 , -0.39668614, -0.14583762, -0.7287906 ],\n",
       "       [-0.33976844, -0.37196803,  0.24231033,  0.0847218 ,  0.19322342,\n",
       "         0.1388831 , -0.3549686 ,  0.45002007, -0.13902898, -0.35003865],\n",
       "       [ 0.04600407, -0.22838745, -0.5727671 , -0.10674965,  0.3319158 ,\n",
       "         0.2698796 , -0.429589  ,  0.5292686 ,  0.33404619,  0.13749343],\n",
       "       [-0.35171407,  0.5253886 , -0.08943965,  0.23707892, -0.09684201,\n",
       "         0.5668381 , -0.42450306,  0.10516307, -0.38375944,  0.42398652],\n",
       "       [ 0.61997634, -0.36399361, -0.25095582,  0.05654652, -0.50698537,\n",
       "         0.13656282,  0.03728631,  0.08188129,  0.36983475, -0.15559068],\n",
       "       [-0.05235682,  0.68206424, -0.41953737, -0.0481848 , -0.19887903,\n",
       "         0.43749064,  0.10573459, -0.46860588,  0.5909053 , -0.31096435],\n",
       "       [-0.37904757, -0.29800922, -0.6013492 ,  0.28117412,  0.14790626,\n",
       "        -0.51284724,  0.34868145,  0.33154312,  0.92175865,  0.2546491 ],\n",
       "       [-0.20713045, -0.06010008,  0.6290025 , -0.40746135, -0.31057897,\n",
       "         0.6109687 , -0.00772289, -0.14097428, -0.48679188, -0.27017924],\n",
       "       [ 0.26347393,  0.02060053,  0.28493106, -0.03122811, -0.2922666 ,\n",
       "         0.35361573,  0.03642615, -0.2572136 , -0.4922393 ,  0.40641567],\n",
       "       [ 0.00777874, -0.06362318, -0.18888056, -0.10441662,  0.0838347 ,\n",
       "        -0.1195767 , -0.2455726 , -0.29619804,  0.25476864, -0.09543101],\n",
       "       [-0.47255674, -0.08716016, -0.1536808 ,  0.31283987,  0.17582554,\n",
       "         0.15507157, -0.5269666 , -0.00197441,  0.448711  ,  0.38151884],\n",
       "       [ 0.3421579 , -0.1406564 ,  0.08476134, -0.04342933,  0.04300336,\n",
       "        -0.07285277, -0.25249523, -0.31382918,  0.15647852,  0.18317232],\n",
       "       [-0.47355184, -0.26124236, -0.08515239,  0.42017496, -0.24907672,\n",
       "         0.40538064, -0.34071723,  0.447204  , -0.29430503, -0.3385017 ],\n",
       "       [ 0.33029553,  0.42478144,  0.11287813, -0.42931753,  0.35940358,\n",
       "        -0.30680352,  0.50892335, -0.5043234 , -0.4624928 ,  0.3148179 ],\n",
       "       [-0.14779541, -0.03918253, -0.30362505,  0.31735078, -0.42762956,\n",
       "         0.43759823, -0.58431697, -0.18750766,  0.32235348,  0.73437476],\n",
       "       [-0.35442868,  0.31094092,  0.14645113,  0.44240606,  0.05751039,\n",
       "         0.30728227,  0.43411285, -0.24132018, -0.67634827, -0.29560938],\n",
       "       [-0.10903156, -0.40961078,  0.04741222, -0.43001977,  0.17248832,\n",
       "         0.48056254,  0.16619   , -0.08933486, -0.07230902,  0.37439787],\n",
       "       [-0.31694832,  0.8254196 , -0.16479835, -0.3189978 , -0.12459461,\n",
       "         0.17314403,  0.01493565,  0.10456163,  0.04898554, -0.15543647],\n",
       "       [ 0.35604233,  0.32712194,  0.10558892, -0.12211571,  0.19555472,\n",
       "         0.33318728, -0.37871927, -0.18520589, -0.37189814,  0.22726569],\n",
       "       [ 0.23630765,  0.19966702,  0.20316222,  0.41840783,  0.19684216,\n",
       "        -0.14505443, -0.2967363 , -0.489034  , -0.06016525, -0.08954354],\n",
       "       [-0.19121686,  0.2364365 ,  0.5008652 , -0.23704909,  0.24788067,\n",
       "         0.06212524,  0.25628248,  0.34871548, -0.47943857, -0.39485255],\n",
       "       [-0.27377534,  0.4108834 , -0.04073819, -0.5111717 ,  0.50038797,\n",
       "        -0.6256237 , -0.55126816,  0.42967722,  0.509458  , -0.02769792],\n",
       "       [-0.09691015,  0.11694551,  0.05830191, -0.10933781,  0.0902675 ,\n",
       "        -0.21922246, -0.23024352, -0.1965313 , -0.19894901, -0.17424412],\n",
       "       [-0.17748421, -0.13569723, -0.00280598, -0.07175542, -0.33028686,\n",
       "         0.4871931 ,  0.3510882 ,  0.0534733 ,  0.12548886, -0.27625787],\n",
       "       [-0.32464483,  0.1961365 ,  0.13516507, -0.27192286,  0.21915475,\n",
       "        -0.17029911,  0.2140499 , -0.01052857,  0.3251079 , -0.3369606 ],\n",
       "       [ 0.20330106, -0.1093671 ,  0.29297072,  0.13923989, -0.28867218,\n",
       "        -0.23039499, -0.01908277,  0.07005428,  0.18387057,  0.2735734 ],\n",
       "       [ 0.62032336, -0.02519086,  0.37190402, -0.16302724, -0.4708002 ,\n",
       "         0.13350943, -0.41547748, -0.2677741 , -0.05587523,  0.10758584]],\n",
       "      dtype=float32)"
      ]
     },
     "execution_count": 77,
     "metadata": {},
     "output_type": "execute_result"
    }
   ],
   "source": [
    "weights_output"
   ]
  },
  {
   "cell_type": "code",
   "execution_count": 104,
   "metadata": {},
   "outputs": [
    {
     "data": {
      "text/plain": [
       "array([ 0.07265498, -0.11486719, -0.0240314 ,  0.1743024 , -0.248388  ,\n",
       "        0.22270615,  0.08241886,  0.16577446, -0.08370445, -0.24686453],\n",
       "      dtype=float32)"
      ]
     },
     "execution_count": 104,
     "metadata": {},
     "output_type": "execute_result"
    }
   ],
   "source": [
    "biases_output"
   ]
  },
  {
   "cell_type": "markdown",
   "metadata": {},
   "source": [
    "### compiling the model"
   ]
  },
  {
   "cell_type": "code",
   "execution_count": 109,
   "metadata": {},
   "outputs": [],
   "source": [
    "model.compile(loss=\"sparse_categorical_crossentropy\", optimizer = \"adam\", metrics = ['accuracy'])"
   ]
  },
  {
   "cell_type": "code",
   "execution_count": 110,
   "metadata": {},
   "outputs": [
    {
     "name": "stdout",
     "output_type": "stream",
     "text": [
      "Train on 50000 samples, validate on 10000 samples\n",
      "Epoch 1/30\n",
      "50000/50000 [==============================] - 6s 125us/sample - loss: 0.3861 - accuracy: 0.8837 - val_loss: 0.4384 - val_accuracy: 0.8566\n",
      "Epoch 2/30\n",
      "50000/50000 [==============================] - 6s 127us/sample - loss: 0.3253 - accuracy: 0.8929 - val_loss: 0.3872 - val_accuracy: 0.8701\n",
      "Epoch 3/30\n",
      "50000/50000 [==============================] - 5s 106us/sample - loss: 0.3142 - accuracy: 0.8944 - val_loss: 0.3873 - val_accuracy: 0.8686\n",
      "Epoch 4/30\n",
      "50000/50000 [==============================] - 6s 113us/sample - loss: 0.3139 - accuracy: 0.8931 - val_loss: 0.3841 - val_accuracy: 0.8687\n",
      "Epoch 5/30\n",
      "50000/50000 [==============================] - 6s 114us/sample - loss: 0.3002 - accuracy: 0.8992 - val_loss: 0.4547 - val_accuracy: 0.8601\n",
      "Epoch 6/30\n",
      "50000/50000 [==============================] - 6s 117us/sample - loss: 0.2936 - accuracy: 0.8995 - val_loss: 0.3737 - val_accuracy: 0.8829\n",
      "Epoch 7/30\n",
      "50000/50000 [==============================] - 6s 122us/sample - loss: 0.2875 - accuracy: 0.9008 - val_loss: 0.3561 - val_accuracy: 0.8874\n",
      "Epoch 8/30\n",
      "50000/50000 [==============================] - 6s 113us/sample - loss: 0.2775 - accuracy: 0.9043 - val_loss: 0.3685 - val_accuracy: 0.8804\n",
      "Epoch 9/30\n",
      "50000/50000 [==============================] - 6s 113us/sample - loss: 0.2778 - accuracy: 0.9045 - val_loss: 0.4027 - val_accuracy: 0.8684\n",
      "Epoch 10/30\n",
      "50000/50000 [==============================] - 6s 124us/sample - loss: 0.2652 - accuracy: 0.9099 - val_loss: 0.3739 - val_accuracy: 0.8815\n",
      "Epoch 11/30\n",
      "50000/50000 [==============================] - 6s 116us/sample - loss: 0.2634 - accuracy: 0.9105 - val_loss: 0.3423 - val_accuracy: 0.8852\n",
      "Epoch 12/30\n",
      "50000/50000 [==============================] - 6s 118us/sample - loss: 0.2574 - accuracy: 0.9112 - val_loss: 0.3567 - val_accuracy: 0.8772\n",
      "Epoch 13/30\n",
      "50000/50000 [==============================] - 5s 108us/sample - loss: 0.2516 - accuracy: 0.9143 - val_loss: 0.3397 - val_accuracy: 0.8857\n",
      "Epoch 14/30\n",
      "50000/50000 [==============================] - 5s 105us/sample - loss: 0.2446 - accuracy: 0.9143 - val_loss: 0.3544 - val_accuracy: 0.8843\n",
      "Epoch 15/30\n",
      "50000/50000 [==============================] - 5s 109us/sample - loss: 0.2407 - accuracy: 0.9164 - val_loss: 0.3374 - val_accuracy: 0.8909\n",
      "Epoch 16/30\n",
      "50000/50000 [==============================] - 6s 122us/sample - loss: 0.2360 - accuracy: 0.9180 - val_loss: 0.3549 - val_accuracy: 0.8814\n",
      "Epoch 17/30\n",
      "50000/50000 [==============================] - 6s 113us/sample - loss: 0.2306 - accuracy: 0.9197 - val_loss: 0.3406 - val_accuracy: 0.8898\n",
      "Epoch 18/30\n",
      "50000/50000 [==============================] - 6s 115us/sample - loss: 0.2237 - accuracy: 0.9225 - val_loss: 0.3674 - val_accuracy: 0.8816\n",
      "Epoch 19/30\n",
      "50000/50000 [==============================] - 6s 116us/sample - loss: 0.2206 - accuracy: 0.9240 - val_loss: 0.3673 - val_accuracy: 0.8777\n",
      "Epoch 20/30\n",
      "50000/50000 [==============================] - 6s 121us/sample - loss: 0.2217 - accuracy: 0.9234 - val_loss: 0.3515 - val_accuracy: 0.8893\n",
      "Epoch 21/30\n",
      "50000/50000 [==============================] - 6s 119us/sample - loss: 0.2161 - accuracy: 0.9253 - val_loss: 0.3696 - val_accuracy: 0.8804\n",
      "Epoch 22/30\n",
      "50000/50000 [==============================] - 6s 116us/sample - loss: 0.2118 - accuracy: 0.9270 - val_loss: 0.3591 - val_accuracy: 0.8855\n",
      "Epoch 23/30\n",
      "50000/50000 [==============================] - 6s 115us/sample - loss: 0.2079 - accuracy: 0.9288 - val_loss: 0.3583 - val_accuracy: 0.8818\n",
      "Epoch 24/30\n",
      "50000/50000 [==============================] - 6s 121us/sample - loss: 0.2064 - accuracy: 0.9306 - val_loss: 0.3564 - val_accuracy: 0.8908\n",
      "Epoch 25/30\n",
      "50000/50000 [==============================] - 6s 116us/sample - loss: 0.2004 - accuracy: 0.9314 - val_loss: 0.3609 - val_accuracy: 0.8837\n",
      "Epoch 26/30\n",
      "50000/50000 [==============================] - 6s 116us/sample - loss: 0.2063 - accuracy: 0.9283 - val_loss: 0.3666 - val_accuracy: 0.8827\n",
      "Epoch 27/30\n",
      "50000/50000 [==============================] - 6s 123us/sample - loss: 0.1984 - accuracy: 0.9320 - val_loss: 0.3346 - val_accuracy: 0.8879\n",
      "Epoch 28/30\n",
      "50000/50000 [==============================] - 6s 120us/sample - loss: 0.1878 - accuracy: 0.9358 - val_loss: 0.3704 - val_accuracy: 0.8819\n",
      "Epoch 29/30\n",
      "50000/50000 [==============================] - 6s 125us/sample - loss: 0.1907 - accuracy: 0.9327 - val_loss: 0.3617 - val_accuracy: 0.8912\n",
      "Epoch 30/30\n",
      "50000/50000 [==============================] - 6s 118us/sample - loss: 0.1828 - accuracy: 0.9363 - val_loss: 0.4207 - val_accuracy: 0.8838\n"
     ]
    }
   ],
   "source": [
    "history = model.fit(X_train, y_train, epochs = 30, validation_data = (X_valid, y_valid))"
   ]
  },
  {
   "cell_type": "code",
   "execution_count": 111,
   "metadata": {},
   "outputs": [
    {
     "data": {
      "image/png": "[encoded data removed]",
      "text/plain": [
       "<Figure size 576x360 with 1 Axes>"
      ]
     },
     "metadata": {
      "needs_background": "light"
     },
     "output_type": "display_data"
    }
   ],
   "source": [
    "import pandas as pd\n",
    "import matplotlib.pyplot as plt\n",
    "\n",
    "pd.DataFrame(history.history).plot(figsize = (8,5))\n",
    "plt.grid(True)\n",
    "plt.gca().set_ylim(0,1)\n",
    "plt.show()"
   ]
  },
  {
   "cell_type": "markdown",
   "metadata": {},
   "source": [
    "### Evalute using test set"
   ]
  },
  {
   "cell_type": "code",
   "execution_count": 112,
   "metadata": {},
   "outputs": [
    {
     "name": "stdout",
     "output_type": "stream",
     "text": [
      "10000/10000 [==============================] - ETA: 0s - loss: 0.8950 - accuracy: 0.86 - 1s 55us/sample - loss: 0.8943 - accuracy: 0.8664\n"
     ]
    },
    {
     "data": {
      "text/plain": [
       "[0.894256566298008, 0.8664]"
      ]
     },
     "execution_count": 112,
     "metadata": {},
     "output_type": "execute_result"
    }
   ],
   "source": [
    "model.evaluate(X_test, y_test)"
   ]
  },
  {
   "cell_type": "markdown",
   "metadata": {},
   "source": [
    "### predictions"
   ]
  },
  {
   "cell_type": "code",
   "execution_count": 113,
   "metadata": {},
   "outputs": [
    {
     "data": {
      "text/plain": [
       "array([[1.79749229e-10, 1.60147640e-09, 1.31391273e-10, 2.49784136e-07,\n",
       "        7.15214388e-10, 1.30781234e-04, 8.34811420e-09, 8.76958831e-04,\n",
       "        1.41081555e-08, 9.98992026e-01],\n",
       "       [1.84652966e-03, 6.24596305e-06, 9.86524343e-01, 4.25772632e-05,\n",
       "        6.28988678e-03, 7.22791427e-08, 5.28198993e-03, 4.03663458e-09,\n",
       "        8.18590433e-06, 6.05450801e-09],\n",
       "       [4.65166750e-07, 9.99995947e-01, 7.89429322e-09, 3.05084041e-06,\n",
       "        1.61962159e-08, 5.02892649e-13, 4.30662112e-07, 2.24974545e-16,\n",
       "        1.82700806e-08, 6.58051215e-16],\n",
       "       [4.65166750e-07, 9.99995947e-01, 7.89429322e-09, 3.05084041e-06,\n",
       "        1.61962159e-08, 5.02892649e-13, 4.30662112e-07, 2.24974545e-16,\n",
       "        1.82700806e-08, 6.58051215e-16],\n",
       "       [1.15346899e-02, 8.54596180e-07, 2.05653370e-03, 7.44483783e-04,\n",
       "        1.33419165e-03, 1.26918287e-09, 9.84242380e-01, 1.14483659e-13,\n",
       "        8.68893112e-05, 7.61406183e-14],\n",
       "       [4.65166750e-07, 9.99995947e-01, 7.89429322e-09, 3.05084041e-06,\n",
       "        1.61962159e-08, 5.02892649e-13, 4.30662112e-07, 2.24974545e-16,\n",
       "        1.82700806e-08, 6.58051215e-16],\n",
       "       [9.01631211e-06, 6.38458459e-06, 7.70176016e-03, 1.20317913e-03,\n",
       "        9.86258388e-01, 8.38941902e-11, 4.80679050e-03, 1.13009657e-09,\n",
       "        1.44861460e-05, 2.12702883e-10],\n",
       "       [1.15346899e-02, 8.54596180e-07, 2.05653370e-03, 7.44483783e-04,\n",
       "        1.33419165e-03, 1.26918287e-09, 9.84242380e-01, 1.14483659e-13,\n",
       "        8.68893112e-05, 7.61406183e-14],\n",
       "       [7.00045266e-09, 1.87050837e-08, 2.02807194e-12, 4.71374939e-10,\n",
       "        7.43225062e-14, 9.99821961e-01, 8.98570385e-10, 2.27501750e-05,\n",
       "        1.94338927e-08, 1.55264017e-04],\n",
       "       [1.59600711e-06, 7.58736860e-08, 1.98628572e-06, 6.52387211e-09,\n",
       "        7.09990627e-06, 6.50730100e-04, 3.20536913e-07, 9.95083213e-01,\n",
       "        3.71480237e-05, 4.21783142e-03]], dtype=float32)"
      ]
     },
     "execution_count": 113,
     "metadata": {},
     "output_type": "execute_result"
    }
   ],
   "source": [
    "X_new = X_test[:10]\n",
    "y_prob = model.predict(X_new)\n",
    "y_prob"
   ]
  },
  {
   "cell_type": "code",
   "execution_count": 114,
   "metadata": {},
   "outputs": [
    {
     "data": {
      "text/plain": [
       "array([9, 2, 1, 1, 6, 1, 4, 6, 5, 7], dtype=int64)"
      ]
     },
     "execution_count": 114,
     "metadata": {},
     "output_type": "execute_result"
    }
   ],
   "source": [
    "y_pred = model.predict_classes(X_new)\n",
    "y_pred"
   ]
  },
  {
   "cell_type": "code",
   "execution_count": 115,
   "metadata": {},
   "outputs": [
    {
     "data": {
      "text/plain": [
       "array(['Ankle boot', 'Pullover', 'Trouser', 'Trouser', 'Shirt', 'Trouser',\n",
       "       'Coat', 'Shirt', 'Sandal', 'Sneaker'], dtype='<U11')"
      ]
     },
     "execution_count": 115,
     "metadata": {},
     "output_type": "execute_result"
    }
   ],
   "source": [
    "import numpy as np\n",
    "np.array(class_names)[y_pred]"
   ]
  },
  {
   "cell_type": "code",
   "execution_count": null,
   "metadata": {},
   "outputs": [],
   "source": []
  }
 ],
 "metadata": {
  "kernelspec": {
   "display_name": "Python 3",
   "language": "python",
   "name": "python3"
  },
  "language_info": {
   "codemirror_mode": {
    "name": "ipython",
    "version": 3
   },
   "file_extension": ".py",
   "mimetype": "text/x-python",
   "name": "python",
   "nbconvert_exporter": "python",
   "pygments_lexer": "ipython3",
   "version": "3.7.7"
  }
 },
 "nbformat": 4,
 "nbformat_minor": 4
}
